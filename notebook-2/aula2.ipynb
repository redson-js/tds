{
 "cells": [
  {
   "cell_type": "code",
   "execution_count": 2,
   "metadata": {},
   "outputs": [
    {
     "name": "stdout",
     "output_type": "stream",
     "text": [
      "o numero 14.7 é maior que o numero 14.5\n"
     ]
    }
   ],
   "source": [
    "num1 = float(input('Digite um número:'))\n",
    "num2 = float(input('Digite outro número:'))\n",
    "\n",
    "if num1 > num2:\n",
    "    print('o numero', num1, 'é maior que o numero', num2)\n",
    "else:\n",
    "    print('o numero', num2, 'é maior que o numero', num1)"
   ]
  },
  {
   "cell_type": "code",
   "execution_count": 4,
   "metadata": {},
   "outputs": [
    {
     "name": "stdout",
     "output_type": "stream",
     "text": [
      "o número 5.4 é positivo\n"
     ]
    }
   ],
   "source": [
    "num = float(input('Digite um número:'))\n",
    "\n",
    "if num > 0:\n",
    "    print('o número', num, 'é positivo')\n",
    "else:\n",
    "    print('o número', num, 'é negativo')"
   ]
  },
  {
   "cell_type": "code",
   "execution_count": 9,
   "metadata": {},
   "outputs": [
    {
     "name": "stdout",
     "output_type": "stream",
     "text": [
      "feminino\n"
     ]
    }
   ],
   "source": [
    "sexo = input(\"Digite F para feminino ou M para masculino\")\n",
    "\n",
    "if sexo == 'f' or sexo == 'F':\n",
    "    print('feminino')\n",
    "elif sexo == 'm' or sexo == 'M':\n",
    "    print('masculino')\n",
    "else:\n",
    "    print('Sexo inválido')"
   ]
  },
  {
   "cell_type": "code",
   "execution_count": 23,
   "metadata": {},
   "outputs": [
    {
     "name": "stdout",
     "output_type": "stream",
     "text": [
      "Consoante\n"
     ]
    }
   ],
   "source": [
    "alfa = input(\"Informe uma letra:\")\n",
    "\n",
    "if alfa.isalpha():\n",
    "    if alfa ==\"a\" or alfa ==\"A\":\n",
    "        print(\"Vogal\")\n",
    "    elif alfa == \"e\" or alfa ==\"E\":\n",
    "        print(\"Vogal\")\n",
    "    elif alfa == \"i\" or alfa ==\"I\":\n",
    "        print(\"Vogal\")\n",
    "    elif alfa == \"o\" or alfa == \"O\":\n",
    "        print(\"Vogal\")\n",
    "    elif alfa == \"u\" or alfa ==\"U\":\n",
    "        print(\"Vogal\")\n",
    "    else:\n",
    "        print(\"Consoante\")"
   ]
  },
  {
   "cell_type": "code",
   "execution_count": 27,
   "metadata": {},
   "outputs": [
    {
     "name": "stdout",
     "output_type": "stream",
     "text": [
      "5.5 Reprovado\n"
     ]
    }
   ],
   "source": [
    "nota1 = float(input(\"Digite a primeira nota:\"))\n",
    "nota2 = float(input(\"Digite a segunda nota:\"))\n",
    "media_final = (nota1 + nota2) /2\n",
    "\n",
    "if media_final == 10:\n",
    "    print(media_final,'Aprovado com distinção')\n",
    "elif media_final >= 7:\n",
    "    print(media_final,'Aprovado')\n",
    "else:\n",
    "    print(media_final, 'Reprovado')"
   ]
  },
  {
   "cell_type": "code",
   "execution_count": 36,
   "metadata": {},
   "outputs": [
    {
     "name": "stdout",
     "output_type": "stream",
     "text": [
      "o maior número é o 17.0\n"
     ]
    }
   ],
   "source": [
    "num1 = float(input('Digite o primeiro número:'))\n",
    "num2 = float(input('Digite o segundo número:'))\n",
    "num3 = float(input('Digite o terceiro número:'))\n",
    "\n",
    "if num1 > num2 and num1 > num3:\n",
    "    print('o maior número é o', num1)\n",
    "elif num2 > num1 and num2 > num3:\n",
    "    print('o maior número é o', num2)\n",
    "elif num3 > num1 and num3 > num2:\n",
    "    print('o maior número é o', num3)\n",
    "else:\n",
    "    print('o número possui valores iguais')"
   ]
  },
  {
   "cell_type": "code",
   "execution_count": 37,
   "metadata": {},
   "outputs": [
    {
     "name": "stdout",
     "output_type": "stream",
     "text": [
      "o menor número é o 4.0\n"
     ]
    }
   ],
   "source": [
    "num1 = float(input('Digite o primeiro número:'))\n",
    "num2 = float(input('Digite o segundo número:'))\n",
    "num3 = float(input('Digite o terceiro número:'))\n",
    "\n",
    "if num1 < num2 and num1 < num3:\n",
    "    print('o menor número é o', num1)\n",
    "elif num2 < num1 and num2 < num3:\n",
    "    print('o menor número é o', num2)\n",
    "elif num3 < num1 and num3 < num2:\n",
    "    print('o menor número é o', num3)\n",
    "else:\n",
    "    print('o número possui valores iguais')"
   ]
  },
  {
   "cell_type": "code",
   "execution_count": 39,
   "metadata": {},
   "outputs": [
    {
     "name": "stdout",
     "output_type": "stream",
     "text": [
      "o produto tem o mesmo preço, compre o que tiver mais longe da data de validade.\n"
     ]
    }
   ],
   "source": [
    "prod1 = float(input(\"Digite o valor do produto1:\"))\n",
    "prod2 = float(input(\"Digite o valor do produto2:\"))\n",
    "prod3 = float(input(\"Digite o valor do produto3:\"))\n",
    "\n",
    "if prod1 < prod2 and prod1 < prod3:\n",
    "    print('o preço mais barato é R$', prod1)\n",
    "elif prod2 < prod1 and prod2 < prod3:\n",
    "    print('o preço mais barato é R$', prod2)\n",
    "elif prod3 < prod1 and prod3 < prod2:\n",
    "    print('o preço mais barato é R$', prod3)\n",
    "else:\n",
    "    print(\"o produto tem o mesmo preço, compre o que tiver mais longe da data de validade.\")"
   ]
  },
  {
   "cell_type": "code",
   "execution_count": 2,
   "metadata": {},
   "outputs": [
    {
     "name": "stdout",
     "output_type": "stream",
     "text": [
      "[13, 7, 3]\n"
     ]
    }
   ],
   "source": [
    "lista = []\n",
    "qtd = 3\n",
    "for i in range(qtd):\n",
    "    elemento = int(input('Digite um numero:'))\n",
    "    lista.append(elemento)\n",
    "\n",
    "lista.sort(reverse = True)\n",
    "print(lista)"
   ]
  },
  {
   "cell_type": "code",
   "execution_count": 7,
   "metadata": {},
   "outputs": [
    {
     "name": "stdout",
     "output_type": "stream",
     "text": [
      "Bom dia!\n"
     ]
    }
   ],
   "source": [
    "turno = input(\"Digite M para matutino, V para vespertino e N para noturno\")\n",
    "\n",
    "if turno == 'm' or turno == 'M':\n",
    "    print('Bom dia!')\n",
    "elif turno == 'v' or turno == 'V':\n",
    "    print('Boa Tarde!')\n",
    "elif turno == 'n' or turno =='N':\n",
    "    print('Boa Noite!')\n",
    "else:\n",
    "    print('Valor inválido')"
   ]
  },
  {
   "cell_type": "code",
   "execution_count": 8,
   "metadata": {},
   "outputs": [
    {
     "name": "stdout",
     "output_type": "stream",
     "text": [
      "Antes do Reajuste: 1400.0\n",
      "Aumento: 10%\n",
      "Valor: 140.0 \n",
      "Final: 1540.0000000000002\n"
     ]
    }
   ],
   "source": [
    "salario = float(input('Digite seu salario:'))\n",
    "\n",
    "valor_baixo = salario *0.20\n",
    "baixo = salario *1.20\n",
    "valor_medio = salario*0.15\n",
    "medio = salario*1.15\n",
    "valor_alto = salario*0.10\n",
    "alto = salario*1.10\n",
    "valor_altissimo = salario*0.05\n",
    "altissimo = salario*1.05\n",
    "  \n",
    "print('Antes do Reajuste:', salario)\n",
    "\n",
    "if salario <=280:\n",
    "    print(\"Aumento: 20%\\nValor:\", valor_baixo, \"\\nFinal:\", baixo)\n",
    "elif salario > 280 and salario <= 700:\n",
    "    print(\"Aumento: 15%\\nValor:\", valor_medio, \"\\nFinal:\", medio)\n",
    "elif salario >700 and salario <=1500:\n",
    "    print(\"Aumento: 10%\\nValor:\", valor_alto, \"\\nFinal:\", alto)\n",
    "else:\n",
    "    print(\"Aumento: 5%\\nValor:\", valor_altissimo, \"\\nFinal:\", altissimo)\n"
   ]
  },
  {
   "cell_type": "code",
   "execution_count": 12,
   "metadata": {},
   "outputs": [
    {
     "name": "stdout",
     "output_type": "stream",
     "text": [
      "Salario Bruto:  11700.0\n",
      "INSS:  1170.0 \n",
      "FGTS:  1287.0\n",
      "IR:  2340.0 \n",
      "Salario Liquido:  8190.0\n"
     ]
    }
   ],
   "source": [
    "valor_hora = float(input(\"Quanto você ganha por hora?\"))\n",
    "horas_mes = int(input(\"Quanto você trabalha por mês?\"))\n",
    "salario_bruto = horas_mes * valor_hora\n",
    "\n",
    "ir1500 = salario_bruto * 0.05\n",
    "ir2500 = salario_bruto * 0.10\n",
    "irmaior = salario_bruto * 0.20\n",
    "\n",
    "inss = salario_bruto *0.10\n",
    "fgts = salario_bruto *0.11\n",
    "\n",
    "print(\"Salario Bruto: \", salario_bruto)\n",
    "\n",
    "if salario_bruto <= 900:\n",
    "    print(\"Seu salario permanecerá o mesmo\")\n",
    "else:\n",
    "    print(\"INSS: \", inss, \"\\nFGTS: \", fgts)\n",
    "\n",
    "if salario_bruto >900 and salario_bruto <= 1500:\n",
    "    salario_liquido = float(salario_bruto) - float(ir1500) - float(inss)\n",
    "    print(\"IR: \", ir1500, \"\\nSalario Liquido: \", salario_liquido)\n",
    "\n",
    "elif salario_bruto > 1500 and salario_bruto <= 2500:\n",
    "    salario_liquido = float(salario_bruto) - float(ir2500) - float(inss)\n",
    "    print(\"IR: \", ir2500, \"\\nSalario Liquido: \", salario_liquido)\n",
    "\n",
    "else:\n",
    "    salario_liquido = float(salario_bruto) - float(irmaior) - float(inss)\n",
    "    print(\"IR: \", irmaior, \"\\nSalario Liquido: \", salario_liquido)"
   ]
  },
  {
   "cell_type": "code",
   "execution_count": 2,
   "metadata": {},
   "outputs": [
    {
     "name": "stdout",
     "output_type": "stream",
     "text": [
      "Quarta\n"
     ]
    }
   ],
   "source": [
    "dia = int(input(\"Digite um número de 1 a 7: \"))\n",
    "\n",
    "if dia == 1:\n",
    "    print(\"Domingo\")\n",
    "elif dia == 2:\n",
    "    print(\"Segunda\")\n",
    "elif dia == 3:\n",
    "    print(\"Terça\")\n",
    "elif dia == 4:\n",
    "    print(\"Quarta\")\n",
    "elif dia == 5:\n",
    "    print(\"Quinta\")\n",
    "elif dia == 6:\n",
    "    print(\"Sexta\")\n",
    "elif dia == 7:\n",
    "    print(\"Sababo\")\n",
    "else:\n",
    "    print(\"Valor Inválido\")"
   ]
  },
  {
   "cell_type": "code",
   "execution_count": 3,
   "metadata": {},
   "outputs": [
    {
     "name": "stdout",
     "output_type": "stream",
     "text": [
      "A, Aprovado!!!!\n"
     ]
    }
   ],
   "source": [
    "nota1 = float(input(\"Digite a nota1\"))\n",
    "nota2 = float(input(\"Digite a nota2\"))\n",
    "media = (nota1 + nota2) / 2\n",
    "\n",
    "if media >= 0 and media <= 4:\n",
    "    print(\"E, Reprovado!!\")\n",
    "elif media > 4 and media <= 6:\n",
    "    print(\"D, Reprovado!!\")\n",
    "elif media > 6 and media <= 7.5:\n",
    "    print(\"C, Aprovado!!!\")\n",
    "elif media > 7.5 and media <= 9:\n",
    "    print(\"B, Aprovado!!!\")\n",
    "else:\n",
    "    print(\"A, Aprovado!!!!\")"
   ]
  },
  {
   "cell_type": "code",
   "execution_count": 6,
   "metadata": {},
   "outputs": [
    {
     "name": "stdout",
     "output_type": "stream",
     "text": [
      "É um triângulo\n",
      "Equilátero\n"
     ]
    }
   ],
   "source": [
    "lado1 = float(input(\"Digite o lado1: \"))\n",
    "lado2 = float(input(\"Digite o lado2: \"))\n",
    "lado3 = float(input(\"Digite o lado3: \"))\n",
    "\n",
    "if lado1 + lado2 > lado3 or lado2 + lado3 > lado1 or lado1 + lado3 > lado2:\n",
    "    print(\"É um triângulo\")\n",
    "    if lado1 == lado2 == lado3:\n",
    "        print(\"Equilátero\")\n",
    "    elif lado1 == lado2 or lado2 == lado3 or lado1 == lado3:\n",
    "        print(\"Isósceles\")\n",
    "    else:\n",
    "        print(\"Escaleno\")\n",
    "else:\n",
    "    print(\"Não é um triângulo\")"
   ]
  },
  {
   "cell_type": "code",
   "execution_count": 10,
   "metadata": {},
   "outputs": [
    {
     "name": "stdout",
     "output_type": "stream",
     "text": [
      "Com base na fórmula ax² + bx + c\n",
      "Valor inválido\n",
      "Raizes:  -3.0 e -3.0\n"
     ]
    }
   ],
   "source": [
    "import math\n",
    "print(\"Com base na fórmula ax² + bx + c\")\n",
    "a = float(input(\"Digite o valor de A:\"))\n",
    "if(a == 0):\n",
    "    print(\"Valor inválido\")\n",
    "else:\n",
    "    b = float(input(\"Digite o valor de B:\"))\n",
    "    c = float(input(\"Digite o valor de C:\"))\n",
    "\n",
    "delta = (b**2) - (4*a*c)\n",
    "\n",
    "if delta < 0:\n",
    "    print(\"A equação não possui raizes reais.\")\n",
    "elif delta ==0:\n",
    "    raiz = -b / (2*a)\n",
    "    print(\"Delta =0, raiz = \", raiz)\n",
    "else:\n",
    "    raiz1 = (-b + math.sqrt(delta)/2*a)\n",
    "    raiz2 = (-b - math.sqrt(delta)/2*a)\n",
    "    print(\"Raizes: \", raiz1, 'e', raiz2)"
   ]
  },
  {
   "cell_type": "code",
   "execution_count": 16,
   "metadata": {},
   "outputs": [
    {
     "name": "stdout",
     "output_type": "stream",
     "text": [
      "Ano bissexto\n"
     ]
    }
   ],
   "source": [
    "ano = int(input(\"Digite o ano:\"))\n",
    "\n",
    "if (ano%4 == 0 or ano%100 == 0) or ano%400 == 0:\n",
    "    print(\"Ano bissexto\")\n",
    "else:\n",
    "    print(\"Ano não bissexto\")"
   ]
  },
  {
   "cell_type": "code",
   "execution_count": 20,
   "metadata": {},
   "outputs": [
    {
     "name": "stdout",
     "output_type": "stream",
     "text": [
      "CERTO!!\n"
     ]
    }
   ],
   "source": [
    "data = input(\"Digite a data no seguinte modelo: [14/03/2023]:\")\n",
    "if len(data) != 10:\n",
    "    print(\"ERRADO!!\")\n",
    "else:\n",
    "    if data[2] != '/' or data[5] != '/':\n",
    "        print(\"ERRADO!!\")\n",
    "    else:\n",
    "        numeros_data = data.split('/')\n",
    "        if int(numeros_data[0]) > 31:\n",
    "            print(\"ERRADO!!\")\n",
    "        else:\n",
    "            print(\"CERTO!!\")"
   ]
  },
  {
   "cell_type": "code",
   "execution_count": 25,
   "metadata": {},
   "outputs": [
    {
     "name": "stdout",
     "output_type": "stream",
     "text": [
      "centena(s):  5\n",
      "dezena(s): 6\n",
      "unidade(s): 9\n"
     ]
    }
   ],
   "source": [
    "import math\n",
    "numero = int(input(\"Digite um número menor ou igual a 1000:\"))\n",
    "if numero <=1000:\n",
    "    centena = numero / 100\n",
    "    centena2 = math.floor(float(centena))\n",
    "    resto_centena = centena - centena2\n",
    "    resto_multiplicado = resto_centena * 100\n",
    "\n",
    "    dezena = resto_multiplicado /10\n",
    "    dezena2 = math.floor(float(dezena))\n",
    "    unidade = dezena - dezena2\n",
    "    unidade_certo = unidade *10\n",
    "\n",
    "    print(\"centena(s): \", centena2)\n",
    "    print(\"dezena(s):\", dezena2)\n",
    "    print(\"unidade(s):\", round(unidade_certo))\n",
    "else:\n",
    "    print(\"você digitou um número maior que 1000\")"
   ]
  },
  {
   "cell_type": "code",
   "execution_count": 26,
   "metadata": {},
   "outputs": [
    {
     "name": "stdout",
     "output_type": "stream",
     "text": [
      "10.0 Aprovado com distinção\n"
     ]
    }
   ],
   "source": [
    "nota1 = float(input(\"Digite a primeira nota:\"))\n",
    "nota2 = float(input(\"Digite a segunda nota:\"))\n",
    "media_final = (nota1 + nota2) /2\n",
    "\n",
    "if media_final == 10:\n",
    "    print(media_final,'Aprovado com distinção')\n",
    "elif media_final >= 7:\n",
    "    print(media_final,'Aprovado')\n",
    "else:\n",
    "    print(media_final, 'Reprovado')"
   ]
  },
  {
   "cell_type": "code",
   "execution_count": 29,
   "metadata": {},
   "outputs": [
    {
     "name": "stdout",
     "output_type": "stream",
     "text": [
      "Notas 100:  15 \n",
      "Notas50:  1 \n",
      "Nota 10:  3 \n",
      "Nota 1:  4\n"
     ]
    }
   ],
   "source": [
    "import math\n",
    "saque = float(input(\"Digite o valor para saque:\"))\n",
    "nota100 = saque /100\n",
    "nota100_certo = math.floor(nota100)\n",
    "resto_nota100 = (nota100 - nota100_certo) *100\n",
    "\n",
    "nota50 = resto_nota100 /50\n",
    "nota50_certo = math.floor(nota50)\n",
    "resto_nota50 = (nota50 - nota50_certo) *50\n",
    "\n",
    "nota10 = resto_nota50 / 10\n",
    "nota10_certo = math.floor(nota10)\n",
    "resto_nota10 = (nota10 - nota10_certo) *10\n",
    "\n",
    "nota5 = resto_nota10 /5\n",
    "nota5_certo = math.floor(nota5)\n",
    "nota1 = (nota5 - nota5_certo) *5\n",
    "\n",
    "print(\"Notas 100: \", nota100_certo, \"\\nNotas50: \", nota50_certo, \"\\nNota 10: \", nota10_certo, \"\\nNota 1: \", round(nota1))"
   ]
  },
  {
   "cell_type": "code",
   "execution_count": 32,
   "metadata": {},
   "outputs": [
    {
     "name": "stdout",
     "output_type": "stream",
     "text": [
      "Numero Par\n"
     ]
    }
   ],
   "source": [
    "numero = int(input(\"Digite um numero inteiro: \"))\n",
    "\n",
    "if numero %2 == 0:\n",
    "    print(\"Numero Par\")\n",
    "else:\n",
    "    print(\"Numero Impar\")"
   ]
  },
  {
   "cell_type": "code",
   "execution_count": 34,
   "metadata": {},
   "outputs": [
    {
     "name": "stdout",
     "output_type": "stream",
     "text": [
      "Numero Decimal\n"
     ]
    }
   ],
   "source": [
    "numero = float(input(\"Digite um número:\"))\n",
    "\n",
    "if (numero //1 == numero):\n",
    "    print(\"Numero inteiro\")\n",
    "else:\n",
    "    print(\"Numero Decimal\")"
   ]
  },
  {
   "cell_type": "code",
   "execution_count": 41,
   "metadata": {},
   "outputs": [
    {
     "name": "stdout",
     "output_type": "stream",
     "text": [
      "Resultado:  175.0\n",
      "Inteiro\n",
      "Impar\n"
     ]
    }
   ],
   "source": [
    "num1 = float(input(\"Digite o número 1: \"))\n",
    "num2 = float(input(\"Digite o número 2: \"))\n",
    "operacao = input(\"Digite a operação que deseja realizar: [+, -, /, *]: \")\n",
    "\n",
    "def checar():\n",
    "    if (resultado_op //1 == resultado_op):\n",
    "        print(\"Inteiro\")\n",
    "        if resultado_op % 2 == 0:\n",
    "            print(\"Par\")\n",
    "            if resultado_op > 0:\n",
    "                print(\"Positivo\")\n",
    "            else:\n",
    "                print(\"Negativo\")\n",
    "        else:\n",
    "         print(\"Impar\")\n",
    "    else:\n",
    "        print(\"Decimal\") \n",
    "\n",
    "if operacao == '+':\n",
    "    resultado_op = num1 + num2\n",
    "    print(\"Resultado: \", resultado_op) \n",
    "    checar()\n",
    "elif operacao == '-':\n",
    "    resultado_op = num1 - num2\n",
    "    print(\"Resultado: \", resultado_op)\n",
    "    checar()      \n",
    "elif operacao == '*':\n",
    "    resultado_op = num1 * num2\n",
    "    print(\"Resultado: \", resultado_op)\n",
    "    checar()      \n",
    "elif operacao == '/':\n",
    "    resultado_op = num1 / num2\n",
    "    print(\"Resultado: \", resultado_op)\n",
    "    checar()\n",
    "else:\n",
    "    print(\"Valor Invalido\")"
   ]
  },
  {
   "cell_type": "code",
   "execution_count": 44,
   "metadata": {},
   "outputs": [
    {
     "name": "stdout",
     "output_type": "stream",
     "text": [
      "Assassino\n"
     ]
    }
   ],
   "source": [
    "perguntas = [\n",
    "    \"Telefonou para a vítma?: \",\n",
    "    \"Esteve no local do crime?: \",\n",
    "    \"Mora perto da vítma?: \",\n",
    "    \"Devia para a vítma?: \",\n",
    "    \"Já trabalhou com a vítma?: \"\n",
    "]\n",
    "resposta = 0\n",
    "\n",
    "for status in perguntas:\n",
    "    resposta +=(input(status) == \"sim\")\n",
    "\n",
    "if resposta == 5:\n",
    "    print(\"Assassino\")\n",
    "\n",
    "elif resposta >=3:\n",
    "    print(\"Cúmplice\")\n",
    "\n",
    "elif resposta == 2:\n",
    "    print(\"Suspeito\")\n",
    "\n",
    "else:\n",
    "    print(\"Inocente\")"
   ]
  },
  {
   "cell_type": "code",
   "execution_count": 45,
   "metadata": {},
   "outputs": [
    {
     "name": "stdout",
     "output_type": "stream",
     "text": [
      "Litros vendidos:  10\n",
      "Combustivel: gasolina\n",
      "Preço: 24.0\n"
     ]
    }
   ],
   "source": [
    "litros = int(input(\"Digite a quantidade de litros: \"))\n",
    "combustivel = input(\"Digite o tipo de combustivel [G, A]:\")\n",
    "\n",
    "preco_alcool1 = (1.90 * 0.03)\n",
    "preco_alcool2 = (1.90 * 0.05)\n",
    "preco_gasolina1 = (2.50 * 0.04)\n",
    "preco_gasolina2 = (2.50 * 0.06)\n",
    "\n",
    "print(\"Litros vendidos: \", litros)\n",
    "\n",
    "if combustivel == 'a' or combustivel == 'A':\n",
    "    print(\"Combustivel: alcool\")\n",
    "    if litros <= 20:\n",
    "        desconto = (1.90 - preco_alcool1) * litros\n",
    "        print(\"Preço: \", desconto)\n",
    "    else:\n",
    "        desconto = (1.90 - preco_alcool2) * litros\n",
    "        print(\"Preço: \", desconto)\n",
    "elif combustivel == 'g' or combustivel == 'G':\n",
    "    print(\"Combustivel: gasolina\")\n",
    "    if litros <= 20:\n",
    "        desconto = (2.50 - preco_gasolina1) * litros\n",
    "        print(\"Preço:\", desconto)\n",
    "    else:\n",
    "        desconto = (2.50 - preco_gasolina2) * litros\n",
    "        print(\"Preço: \", desconto)\n",
    "else:\n",
    "    print(\"Valor Invalido\")"
   ]
  },
  {
   "cell_type": "code",
   "execution_count": 46,
   "metadata": {},
   "outputs": [
    {
     "name": "stdout",
     "output_type": "stream",
     "text": [
      "quantidade de maçãs:  3.0 \n",
      "Quantidade de morangos:  5.0\n",
      "Preço Final:  15.5\n"
     ]
    }
   ],
   "source": [
    "morangos = float(input(\"Digite a quantidade de morangos [KG]: \"))\n",
    "macas = float(input(\"Digite a quantidade de maças [KG]: \"))\n",
    "preco_morango1 = morangos * 2.50\n",
    "preco_morango2 = morangos * 2.20\n",
    "\n",
    "preco_maca1 = macas * 1.80\n",
    "preco_maca2 = macas * 1.50\n",
    "\n",
    "print(\"quantidade de maçãs: \", macas, \"\\nQuantidade de morangos: \", morangos)\n",
    "\n",
    "if morangos > 5:\n",
    "    preco_certo_morango = preco_morango1\n",
    "else:\n",
    "    preco_certo_morango = preco_morango2\n",
    "\n",
    "if macas > 5:\n",
    "    preco_certo_maca = preco_maca1\n",
    "else:\n",
    "    preco_certo_maca = preco_maca2\n",
    "\n",
    "preco_total = preco_certo_maca + preco_certo_morango\n",
    "\n",
    "if preco_total > 25 or (macas + morangos) > 8:\n",
    "    print(\"Preço Final: \", (preco_total - (preco_total * 0.1)))\n",
    "else:\n",
    "    print(\"Preço Final: \", preco_total)"
   ]
  },
  {
   "cell_type": "code",
   "execution_count": 50,
   "metadata": {},
   "outputs": [
    {
     "name": "stdout",
     "output_type": "stream",
     "text": [
      "Tipo de carne: picanha \n",
      "Quantidade de carne: 15\n",
      "tipo de pagamento:  picanha\n",
      "Vaçpr do desconto:  5.175000000000001\n",
      "Valor Final:  98.325\n"
     ]
    }
   ],
   "source": [
    "tipo_carne = input(\"digite o tipo da carne que irá comprar: \")\n",
    "qtd_carne = int(input(\"Digite a quantidade de carne que irá comprar: \"))\n",
    "tipo_pagamento = input(\"Escreva o tipo de pagamento: \")\n",
    "\n",
    "print(\"Tipo de carne:\", tipo_carne, \"\\nQuantidade de carne:\", qtd_carne)\n",
    "\n",
    "preco_file_duplo1 = qtd_carne * 4.90\n",
    "preco_file_duplo2 = qtd_carne * 5.80\n",
    "\n",
    "alcatra1 = qtd_carne * 5.90\n",
    "alcatra2 = qtd_carne * 6.80\n",
    "\n",
    "picanha1 = qtd_carne * 6.90\n",
    "picanha2 = qtd_carne * 7.80\n",
    "\n",
    "if tipo_carne == 'filé duplo':\n",
    "    if qtd_carne > 5:\n",
    "        preco_total = preco_file_duplo1\n",
    "    else:\n",
    "        preco_total = preco_file_duplo2\n",
    "elif tipo_carne == 'alcatra':\n",
    "    if qtd_carne > 5:\n",
    "        preco_total = alcatra1\n",
    "    else:\n",
    "        preco_total = alcatra2\n",
    "elif tipo_carne == 'picanha':\n",
    "    if qtd_carne > 5:\n",
    "        preco_total = picanha1\n",
    "    else:\n",
    "        preco_total = picanha2\n",
    "else:\n",
    "    print(\"Carne Invalida\")\n",
    "\n",
    "if tipo_pagamento == 'Cartão Tabajara':\n",
    "    desconto = preco_total * 0.05\n",
    "    print(\"tipo de pagamento: \", tipo_carne)\n",
    "    print(\"Vaçpr do desconto: \", desconto)\n",
    "    print(\"Valor Final: \", (preco_total - desconto))\n",
    "else:\n",
    "    print(\"Tipo de pagamento: normal\\nValor do desconto: 0\")\n",
    "    print(\"Valor Final: \", preco_total)"
   ]
  }
 ],
 "metadata": {
  "kernelspec": {
   "display_name": "Python 3",
   "language": "python",
   "name": "python3"
  },
  "language_info": {
   "codemirror_mode": {
    "name": "ipython",
    "version": 3
   },
   "file_extension": ".py",
   "mimetype": "text/x-python",
   "name": "python",
   "nbconvert_exporter": "python",
   "pygments_lexer": "ipython3",
   "version": "3.10.11"
  },
  "orig_nbformat": 4
 },
 "nbformat": 4,
 "nbformat_minor": 2
}
