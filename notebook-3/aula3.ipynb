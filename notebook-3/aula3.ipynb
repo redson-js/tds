{
 "cells": [
  {
   "cell_type": "code",
   "execution_count": 1,
   "metadata": {},
   "outputs": [
    {
     "name": "stdout",
     "output_type": "stream",
     "text": [
      "Valor inválido! a nota deve ser entre 0 e 10.\n",
      "A nota digitada foi: 3.0\n"
     ]
    }
   ],
   "source": [
    "while True:\n",
    "    nota = float(input(\"Digite uma nota entre 0 e 10\"))\n",
    "    if nota <0 or nota > 10:\n",
    "        print(\"Valor inválido! a nota deve ser entre 0 e 10.\")\n",
    "    else:\n",
    "        break\n",
    "print(\"A nota digitada foi:\", nota)"
   ]
  },
  {
   "cell_type": "code",
   "execution_count": 3,
   "metadata": {},
   "outputs": [
    {
     "name": "stdout",
     "output_type": "stream",
     "text": [
      "ERRO: a senha não pode ser igual ao nome de usuário. Tente novamente\n",
      "Nome de usuário: redson\n",
      "Senha: lira123\n"
     ]
    }
   ],
   "source": [
    "while True:\n",
    "    nome_usuario = input(\"Digite seu nome de usuário:\")\n",
    "    senha = input(\"Digite sua senha:\")\n",
    "    if senha == nome_usuario:\n",
    "        print(\"ERRO: a senha não pode ser igual ao nome de usuário. Tente novamente\")\n",
    "    else:\n",
    "        break\n",
    "print(\"Nome de usuário:\", nome_usuario)\n",
    "print(\"Senha:\", senha)"
   ]
  },
  {
   "cell_type": "code",
   "execution_count": 5,
   "metadata": {},
   "outputs": [
    {
     "name": "stdout",
     "output_type": "stream",
     "text": [
      "ERRO: o nome deve ter mais de 3 caracteres. Tente novamente.\n",
      "ERRO: a idade deve estar entre 0 e 150. Tente novamente.\n",
      "Nome: redson\n",
      "Idade: 17\n",
      "Salário: 500.0\n",
      "Sexo: m\n",
      "Estado civil: s\n"
     ]
    }
   ],
   "source": [
    "while True:\n",
    "    nome = input(\"digite seu nome (maior que 3 caracteres): \")\n",
    "    if len(nome) <= 3:\n",
    "        print(\"ERRO: o nome deve ter mais de 3 caracteres. Tente novamente.\")\n",
    "    else:\n",
    "        break\n",
    "while True:\n",
    "    idade = int(input(\"Sigite sua idade (entre 0 e 150):\"))\n",
    "    if idade < 0 or idade > 150:\n",
    "        print(\"ERRO: a idade deve estar entre 0 e 150. Tente novamente.\")\n",
    "    else:\n",
    "        break\n",
    "while True:\n",
    "    salario = float(input(\"Digite seu salário (maior que 0):\"))\n",
    "    if salario <= 0:\n",
    "        print(\"ERRO: o salário deve ser maior que 0. Tente novamente.\")\n",
    "    else:\n",
    "        break\n",
    "while True:\n",
    "    sexo = input(\"Digite seu sexo (f ou m):\")\n",
    "    if sexo not in ['f', 'm']:\n",
    "        print(\"ERRO: o sexo deve ser f ou m. Tente novamente.\")\n",
    "    else:\n",
    "        break\n",
    "while True:\n",
    "    estado_civil = input(\"Digite seu estado civil(s, c, v, d):\")\n",
    "    if estado_civil not in ['s', 'c', 'v', 'd']:\n",
    "        print(\"ERRO: o estado civil deve ser s, c, v ou d. Tente novamente.\")\n",
    "    else:\n",
    "        break\n",
    "print(\"Nome:\", nome)\n",
    "print(\"Idade:\", idade)\n",
    "print('Salário:', salario)\n",
    "print('Sexo:', sexo)\n",
    "print(\"Estado civil:\", estado_civil)"
   ]
  },
  {
   "cell_type": "code",
   "execution_count": 6,
   "metadata": {},
   "outputs": [
    {
     "name": "stdout",
     "output_type": "stream",
     "text": [
      "Serão necessários 220 anos para que a população do país A ultrapasse ou iguale a população B.\n"
     ]
    }
   ],
   "source": [
    "populacao_a = 8000\n",
    "taxa_crescimento_a = 0.03\n",
    "populacao_b = 200000\n",
    "taxa_crescimento_b = 0.015\n",
    "anos = 0\n",
    "\n",
    "while populacao_a < populacao_b:\n",
    "    populacao_a += populacao_a * taxa_crescimento_a\n",
    "    populacao_b += populacao_b * taxa_crescimento_b\n",
    "    anos += 1\n",
    "\n",
    "print(\"Serão necessários\", anos, \"anos para que a população do país A ultrapasse ou iguale a população B.\")"
   ]
  },
  {
   "cell_type": "code",
   "execution_count": 9,
   "metadata": {},
   "outputs": [
    {
     "name": "stdout",
     "output_type": "stream",
     "text": [
      "Serão necessários 167 anos para que a população do país A ultrapasse ou iguale a população B.\n",
      "Serão necessários 56 anos para que a população do país A ultrapasse ou iguale a população B.\n"
     ]
    }
   ],
   "source": [
    "while True:\n",
    "    try:\n",
    "        populacao_a = int(input(\"Digite a população inicial do país A:\"))\n",
    "        taxa_crescimento_a = float(input(\"Digite a taxa de crescimento anual da população do pais A em porcentagem:\")) / 100\n",
    "        populacao_b = int(input(\"Digite a população inicial do país B:\"))\n",
    "        taxa_crescimento_b = float(input(\"Digite a taxa de crescimento anual da população do pais B em porcentagem:\")) / 100\n",
    "\n",
    "        anos = 0\n",
    "        while populacao_a < populacao_b:\n",
    "            populacao_a += populacao_a * taxa_crescimento_a\n",
    "            populacao_b += populacao_b * taxa_crescimento_b\n",
    "            anos += 1\n",
    "\n",
    "        print(\"Serão necessários\", anos, \"anos para que a população do país A ultrapasse ou iguale a população B.\")\n",
    "    except ValueError:\n",
    "        print(\"Valor inválido. por favor, digite novamente. \\n\")\n",
    "\n",
    "    resposta = input(\"Deseja calcular novamente? (s/n)\")\n",
    "    if resposta.lower() != 's':\n",
    "        break    "
   ]
  },
  {
   "cell_type": "code",
   "execution_count": 12,
   "metadata": {},
   "outputs": [
    {
     "name": "stdout",
     "output_type": "stream",
     "text": [
      "1234567891011121314151617181920"
     ]
    }
   ],
   "source": [
    "for i in range(1, 21):\n",
    "    print(i, end='')\n"
   ]
  },
  {
   "cell_type": "code",
   "execution_count": 14,
   "metadata": {},
   "outputs": [
    {
     "name": "stdout",
     "output_type": "stream",
     "text": [
      "O maior número é: 99\n"
     ]
    }
   ],
   "source": [
    "numeros = []\n",
    "\n",
    "for i in range(5):\n",
    "    numero = int(input(\"Digite um número: \"))\n",
    "    numeros.append(numero)\n",
    "\n",
    "maior = max(numeros)\n",
    "\n",
    "print(\"O maior número é:\", maior)"
   ]
  },
  {
   "cell_type": "code",
   "execution_count": 15,
   "metadata": {},
   "outputs": [
    {
     "name": "stdout",
     "output_type": "stream",
     "text": [
      "A soma dos números é: 30\n",
      "A média dos números é: 6.0\n"
     ]
    }
   ],
   "source": [
    "numeros = []\n",
    "\n",
    "for i in range(5):\n",
    "    numero = int(input(\"Digite um número: \"))\n",
    "    numeros.append(numero)\n",
    "\n",
    "soma = sum(numeros)\n",
    "media = soma / len(numeros)\n",
    "\n",
    "print(\"A soma dos números é:\", soma)\n",
    "print(\"A média dos números é:\", media)"
   ]
  },
  {
   "cell_type": "code",
   "execution_count": 19,
   "metadata": {},
   "outputs": [
    {
     "name": "stdout",
     "output_type": "stream",
     "text": [
      "1\n",
      "3\n",
      "5\n",
      "7\n",
      "9\n",
      "11\n",
      "13\n",
      "15\n",
      "17\n",
      "19\n",
      "21\n",
      "23\n",
      "25\n",
      "27\n",
      "29\n",
      "31\n",
      "33\n",
      "35\n",
      "37\n",
      "39\n",
      "41\n",
      "43\n",
      "45\n",
      "47\n",
      "49\n"
     ]
    }
   ],
   "source": [
    "for i in range (1, 51):\n",
    "    if i % 2 != 0:\n",
    "        print(i)"
   ]
  },
  {
   "cell_type": "code",
   "execution_count": 21,
   "metadata": {},
   "outputs": [
    {
     "name": "stdout",
     "output_type": "stream",
     "text": [
      "4\n",
      "5\n",
      "6\n",
      "7\n"
     ]
    }
   ],
   "source": [
    "numero1 = int(input(\"Digite o primeiro número: \"))\n",
    "numero2 = int(input(\"Digite o segundo número: \"))\n",
    "\n",
    "if numero1 < numero2:\n",
    "    for i in range(numero1, numero2+1):\n",
    "        print(i)\n",
    "else:\n",
    "    for i in range(numero2, numero1+1):\n",
    "        print(i)"
   ]
  },
  {
   "cell_type": "code",
   "execution_count": 22,
   "metadata": {},
   "outputs": [
    {
     "name": "stdout",
     "output_type": "stream",
     "text": [
      "5\n",
      "6\n",
      "7\n",
      "A soma dos números é: 18\n"
     ]
    }
   ],
   "source": [
    "numero1 = int(input(\"Digite o primeiro número: \"))\n",
    "numero2 = int(input(\"Digite o segundo número: \"))\n",
    "\n",
    "soma = 0\n",
    "\n",
    "if numero1 < numero2:\n",
    "    for i in range(numero1, numero2+1):\n",
    "        print(i)\n",
    "        soma +=i\n",
    "else:\n",
    "    for i in range(numero2, numero1+1):\n",
    "        print(i)\n",
    "        soma +=i\n",
    "\n",
    "print('A soma dos números é:', soma)"
   ]
  },
  {
   "cell_type": "code",
   "execution_count": 23,
   "metadata": {},
   "outputs": [
    {
     "name": "stdout",
     "output_type": "stream",
     "text": [
      "Tabuada do 5 :\n",
      "5 x 1 = 5\n",
      "5 x 2 = 10\n",
      "5 x 3 = 15\n",
      "5 x 4 = 20\n",
      "5 x 5 = 25\n",
      "5 x 6 = 30\n",
      "5 x 7 = 35\n",
      "5 x 8 = 40\n",
      "5 x 9 = 45\n",
      "5 x 10 = 50\n"
     ]
    }
   ],
   "source": [
    "numero = int(input(\"Digite um número inteiro de 1 a 10:\"))\n",
    "print(\"Tabuada do\", numero, ':')\n",
    "\n",
    "for i in range(1, 11):\n",
    "    resultado = numero * i\n",
    "    print(numero, 'x', i, '=', resultado)"
   ]
  },
  {
   "cell_type": "code",
   "execution_count": 25,
   "metadata": {},
   "outputs": [
    {
     "name": "stdout",
     "output_type": "stream",
     "text": [
      "5 elevado a 3 é igual a 125\n"
     ]
    }
   ],
   "source": [
    "base = int(input(\"Digite a base:\"))\n",
    "expoente = int(input(\"Digite o expoente:\"))\n",
    "\n",
    "resultado = 1\n",
    "\n",
    "for i in range(expoente):\n",
    "    resultado *= base\n",
    "\n",
    "print(base, 'elevado a', expoente, 'é igual a', resultado)"
   ]
  },
  {
   "cell_type": "code",
   "execution_count": 1,
   "metadata": {},
   "outputs": [
    {
     "name": "stdout",
     "output_type": "stream",
     "text": [
      "Quantidade de números pares:  6\n",
      "Quantidade de números impares:  4\n"
     ]
    }
   ],
   "source": [
    "numeros_pares = 0\n",
    "numeros_impares = 0\n",
    "\n",
    "for i in range(10):\n",
    "    numero = int(input(\"Digite um número inteiro:\"))\n",
    "    if numero %2 == 0:\n",
    "        numeros_pares +=1\n",
    "    else:\n",
    "        numeros_impares += 1\n",
    "\n",
    "print(\"Quantidade de números pares: \", numeros_pares)\n",
    "print(\"Quantidade de números impares: \", numeros_impares)"
   ]
  },
  {
   "cell_type": "code",
   "execution_count": 4,
   "metadata": {},
   "outputs": [
    {
     "name": "stdout",
     "output_type": "stream",
     "text": [
      "Série de Fibonacci até o 7° termo: [1, 1, 2, 3, 5, 8, 13]\n"
     ]
    }
   ],
   "source": [
    "n = int(input(\"Digite o valor de n:\"))\n",
    "\n",
    "fibonacci = [1, 1]\n",
    "\n",
    "for i in range(2, n):\n",
    "    proximo = fibonacci[i - 1] + fibonacci[i-2]\n",
    "    fibonacci.append(proximo)\n",
    "\n",
    "print(f\"Série de Fibonacci até o {n}° termo: {fibonacci}\")"
   ]
  },
  {
   "cell_type": "code",
   "execution_count": 10,
   "metadata": {},
   "outputs": [
    {
     "name": "stdout",
     "output_type": "stream",
     "text": [
      "Série de Fibonacci até o valor maior que 500: [0, 1, 1, 2, 3, 5, 8, 13, 21, 34, 55, 89, 144, 233, 377]\n"
     ]
    }
   ],
   "source": [
    "fibonacci = [0, 1]\n",
    "proximo = 1\n",
    "\n",
    "while proximo <= 500:\n",
    "    fibonacci.append(proximo)\n",
    "    proximo = fibonacci[-1] + fibonacci[-2]\n",
    "\n",
    "print(f\"Série de Fibonacci até o valor maior que 500: {fibonacci}\")"
   ]
  },
  {
   "cell_type": "code",
   "execution_count": 14,
   "metadata": {},
   "outputs": [
    {
     "name": "stdout",
     "output_type": "stream",
     "text": [
      "O fatorial de 5 é 120\n"
     ]
    }
   ],
   "source": [
    "numero = int(input(\"Digite um número inteiro: \"))\n",
    "\n",
    "fatorial = 1\n",
    "\n",
    "if numero < 0:\n",
    "    print(\"Não é possível calcular o fatorial de um número negativo.\")\n",
    "elif numero == 0:\n",
    "    print(\"O fatorial de 0 é 1.\")\n",
    "else:\n",
    "    for i in range(1, numero+1):\n",
    "        fatorial *= i\n",
    "    print(\"O fatorial de\", numero, \"é\", fatorial)\n"
   ]
  },
  {
   "cell_type": "code",
   "execution_count": 17,
   "metadata": {},
   "outputs": [
    {
     "name": "stdout",
     "output_type": "stream",
     "text": [
      "Menor valor: 2.0\n",
      "Maior valor: 6.0\n",
      "Soma dos valor: 12.0\n"
     ]
    }
   ],
   "source": [
    "numeros = []\n",
    "\n",
    "for i in range(int(input(\"Quantidade de números\"))):\n",
    "    numeros.append(float(input(f\"Digite o {i+1}° número:\")))\n",
    "\n",
    "menor = min(numeros)\n",
    "maior = max(numeros)\n",
    "soma = sum(numeros)\n",
    "\n",
    "print(f\"Menor valor: {menor}\")\n",
    "print(f\"Maior valor: {maior}\")\n",
    "print(f\"Soma dos valor: {soma}\")"
   ]
  },
  {
   "cell_type": "code",
   "execution_count": 18,
   "metadata": {},
   "outputs": [
    {
     "name": "stdout",
     "output_type": "stream",
     "text": [
      "O menor número é 1.0\n",
      "O maior número é 999.0\n",
      "A soma dos números é 1524.0\n"
     ]
    }
   ],
   "source": [
    "n = int(input(\"Digite números você deseja digitar?\"))\n",
    "\n",
    "menor = 1000\n",
    "maior = 0\n",
    "soma = 0\n",
    "\n",
    "for i in range(n):\n",
    "    num = float(input(\"Digite um número entre 0 e 1000:\"))\n",
    "    while num <0 or num > 1000: \n",
    "        num = float(input(\"Número inválido. Digite um número entre 0 e 1000:\"))\n",
    "    if num < menor:\n",
    "        menor = num\n",
    "    if num > maior:\n",
    "        maior = num\n",
    "    soma += num\n",
    "\n",
    "print(f\"O menor número é {menor}\")\n",
    "print(f\"O maior número é {maior}\")\n",
    "print(f\"A soma dos números é {soma}\")"
   ]
  },
  {
   "cell_type": "code",
   "execution_count": 24,
   "metadata": {},
   "outputs": [
    {
     "name": "stdout",
     "output_type": "stream",
     "text": [
      "O fatorial de 7 é: 5040\n"
     ]
    }
   ],
   "source": [
    "while True:\n",
    "    num = int(input(\"Digite um número inteiro positivo menor que 16 para calcular o fatorial (ou um número negativo para sair): \"))\n",
    "    \n",
    "    if num < 0:\n",
    "        break\n",
    "    \n",
    "    if num >= 16:\n",
    "        print(\"Número muito grande! Tente novamente.\")\n",
    "        break\n",
    "    \n",
    "    fatorial = 1\n",
    "    for i in range(2, num+1):\n",
    "        fatorial *= i\n",
    "    \n",
    "    \n",
    "    break\n",
    "print(f\"O fatorial de {num} é: {fatorial}\")"
   ]
  },
  {
   "cell_type": "code",
   "execution_count": 25,
   "metadata": {},
   "outputs": [
    {
     "name": "stdout",
     "output_type": "stream",
     "text": [
      "7 é um número primo.\n"
     ]
    }
   ],
   "source": [
    "numero = int(input(\"Digite um número inteiro: \"))\n",
    "\n",
    "if numero >1:\n",
    "    for i in range(2, numero):\n",
    "        if numero % i == 0:\n",
    "            print(numero, 'não é um número primro.')\n",
    "    else:\n",
    "        print(numero, \"é um número primo.\")\n",
    "else:\n",
    "    print(numero, \"não é um número primo.\")        "
   ]
  },
  {
   "cell_type": "code",
   "execution_count": 29,
   "metadata": {},
   "outputs": [
    {
     "name": "stdout",
     "output_type": "stream",
     "text": [
      "5 é um número primo.\n"
     ]
    }
   ],
   "source": [
    "numero = int(input(\"Digite um número inteiro: \"))\n",
    "\n",
    "if numero >1:\n",
    "    divisores = []\n",
    "    for i in range(2, numero):\n",
    "        if numero % i == 0:\n",
    "            divisores.append(i)\n",
    "    if len(divisores) == 0:\n",
    "        print(numero, 'é um número primo.')\n",
    "    else:\n",
    "        print(numero, \"não é um número primo. É divisível por:\", divisores)\n",
    "else:\n",
    "    print(numero, \"não é um número primo.\")    "
   ]
  },
  {
   "cell_type": "code",
   "execution_count": 31,
   "metadata": {},
   "outputs": [
    {
     "name": "stdout",
     "output_type": "stream",
     "text": [
      "Números primos entre 1 e 6 : [2, 3, 5]\n",
      "Número total de divisões: 6\n"
     ]
    }
   ],
   "source": [
    "n = int(input(\"Digite um número inteiro: \"))\n",
    "primos = []\n",
    "divisoes = 0\n",
    "\n",
    "for num in range(2, n + 1):\n",
    "    eh_primo = True\n",
    "    for i in range(2, num):\n",
    "        divisoes += 1\n",
    "        if num % i == 0:\n",
    "            eh_primo = False\n",
    "            break\n",
    "    if eh_primo:\n",
    "        primos.append(num)\n",
    "\n",
    "print(\"Números primos entre 1 e\", n, ':', primos)\n",
    "print(\"Número total de divisões:\", divisoes)"
   ]
  },
  {
   "cell_type": "code",
   "execution_count": 33,
   "metadata": {},
   "outputs": [
    {
     "name": "stdout",
     "output_type": "stream",
     "text": [
      "Média das notas: 7.75\n"
     ]
    }
   ],
   "source": [
    "n = int(input(\"Digite o número de notas: \"))\n",
    "notas = []\n",
    "\n",
    "for i in range(n):\n",
    "    nota = float(input(\"Digite a nota {}:\" .format(i + 1)))\n",
    "    notas.append(nota)\n",
    "\n",
    "media = sum(notas) / n\n",
    "\n",
    "print(\"Média das notas:\", media)"
   ]
  },
  {
   "cell_type": "code",
   "execution_count": 34,
   "metadata": {},
   "outputs": [
    {
     "name": "stdout",
     "output_type": "stream",
     "text": [
      "A turma é jovem.\n",
      "Média de idade da turma:  22.2\n"
     ]
    }
   ],
   "source": [
    "n = int(input(\"Digite o número de pessoas: \"))\n",
    "idades = []\n",
    "\n",
    "for i in range(n):\n",
    "    idade = int(input(\"Digite a idade da pessoa {}:\".format(i + 1)))\n",
    "    idades.append(idade)\n",
    "\n",
    "media_idade = sum(idades) / n\n",
    "\n",
    "if media_idade <= 25:\n",
    "    print('A turma é jovem.')\n",
    "elif media_idade <=60:\n",
    "    print(\"A turma é adulta.\")\n",
    "else:\n",
    "    print(\"A turma é idosa.\")\n",
    "\n",
    "print(\"Média de idade da turma: \", media_idade)"
   ]
  },
  {
   "cell_type": "code",
   "execution_count": 36,
   "metadata": {},
   "outputs": [
    {
     "name": "stdout",
     "output_type": "stream",
     "text": [
      "Número de votos do candidato 1: 0\n",
      "Número de votos do candidato 2: 2\n",
      "Número de votos do candidato 3: 3\n"
     ]
    }
   ],
   "source": [
    "n_eleitores = int(input(\"Digite o número total de eleitores: \"))\n",
    "votos_candidato1 = 0\n",
    "votos_candidato2 = 0\n",
    "votos_candidato3 = 0\n",
    "\n",
    "for i in range(n_eleitores):\n",
    "    voto = int(input(\"Digite o número do candidato em que deseja votar (1, 2 ou 3):\"))\n",
    "    if voto == 1:\n",
    "        votos_candidato1 += 1\n",
    "    elif voto == 2:\n",
    "        votos_candidato2 += 1\n",
    "    elif voto == 3:\n",
    "        votos_candidato3 +=3\n",
    "    else:\n",
    "        print(\"Voto inválido.\")\n",
    "\n",
    "print(\"Número de votos do candidato 1:\", votos_candidato1)\n",
    "print(\"Número de votos do candidato 2:\", votos_candidato2)\n",
    "print(\"Número de votos do candidato 3:\", votos_candidato3)"
   ]
  },
  {
   "cell_type": "code",
   "execution_count": 38,
   "metadata": {},
   "outputs": [
    {
     "name": "stdout",
     "output_type": "stream",
     "text": [
      "A media de alunos por turma é: 14.00\n"
     ]
    }
   ],
   "source": [
    "num_turmas = int(input(\"Digite a quantidade de turmas: \"))\n",
    "soma_alunos = 0\n",
    "\n",
    "for i in range(num_turmas):\n",
    "    num_alunos = int(input(f\"Digite a quantidade de alunos para a turma {i+1}:\"))\n",
    "    while num_alunos >40:\n",
    "        num_alunos = int(input(\"A turma não pode ter mais de 40 alunos. Digite novamente:\"))\n",
    "    soma_alunos += num_alunos\n",
    "media_alunos = soma_alunos / num_turmas\n",
    "\n",
    "print(f\"A media de alunos por turma é: {media_alunos:.2f}\")"
   ]
  },
  {
   "cell_type": "code",
   "execution_count": 40,
   "metadata": {},
   "outputs": [
    {
     "name": "stdout",
     "output_type": "stream",
     "text": [
      "O valor total investido na coleção é: R$230.50\n",
      "A media de valor gasto por CD é: R$46.10\n"
     ]
    }
   ],
   "source": [
    "num_cds = int(input(\"Digite a quandtidade de CDs da coleçâo: \"))\n",
    "soma_valores = 0\n",
    "\n",
    "for i in range(num_cds):\n",
    "    valor_cd = float(input(f\"Digite o valor do CD {i+1}:\"))\n",
    "    soma_valores += valor_cd\n",
    "\n",
    "valor_total = soma_valores\n",
    "media_valor = valor_total / num_cds\n",
    "\n",
    "print(f\"O valor total investido na coleção é: R${valor_total:.2f}\")\n",
    "print(f\"A media de valor gasto por CD é: R${media_valor:.2f}\")"
   ]
  },
  {
   "cell_type": "code",
   "execution_count": 41,
   "metadata": {},
   "outputs": [
    {
     "name": "stdout",
     "output_type": "stream",
     "text": [
      "Loja de R$ 1,99 - Tabela de preços\n",
      "\n",
      "Quantidadde\tValor\n",
      "1\t\tR$ 1.99\n",
      "2\t\tR$ 3.98\n",
      "3\t\tR$ 5.97\n",
      "4\t\tR$ 7.96\n",
      "5\t\tR$ 9.95\n",
      "6\t\tR$ 11.94\n",
      "7\t\tR$ 13.93\n",
      "8\t\tR$ 15.92\n",
      "9\t\tR$ 17.91\n",
      "10\t\tR$ 19.90\n",
      "11\t\tR$ 21.89\n",
      "12\t\tR$ 23.88\n",
      "13\t\tR$ 25.87\n",
      "14\t\tR$ 27.86\n",
      "15\t\tR$ 29.85\n",
      "16\t\tR$ 31.84\n",
      "17\t\tR$ 33.83\n",
      "18\t\tR$ 35.82\n",
      "19\t\tR$ 37.81\n",
      "20\t\tR$ 39.80\n",
      "21\t\tR$ 41.79\n",
      "22\t\tR$ 43.78\n",
      "23\t\tR$ 45.77\n",
      "24\t\tR$ 47.76\n",
      "25\t\tR$ 49.75\n",
      "26\t\tR$ 51.74\n",
      "27\t\tR$ 53.73\n",
      "28\t\tR$ 55.72\n",
      "29\t\tR$ 57.71\n",
      "30\t\tR$ 59.70\n",
      "31\t\tR$ 61.69\n",
      "32\t\tR$ 63.68\n",
      "33\t\tR$ 65.67\n",
      "34\t\tR$ 67.66\n",
      "35\t\tR$ 69.65\n",
      "36\t\tR$ 71.64\n",
      "37\t\tR$ 73.63\n",
      "38\t\tR$ 75.62\n",
      "39\t\tR$ 77.61\n",
      "40\t\tR$ 79.60\n",
      "41\t\tR$ 81.59\n",
      "42\t\tR$ 83.58\n",
      "43\t\tR$ 85.57\n",
      "44\t\tR$ 87.56\n",
      "45\t\tR$ 89.55\n",
      "46\t\tR$ 91.54\n",
      "47\t\tR$ 93.53\n",
      "48\t\tR$ 95.52\n",
      "49\t\tR$ 97.51\n",
      "50\t\tR$ 99.50\n"
     ]
    }
   ],
   "source": [
    "print(\"Loja de R$ 1,99 - Tabela de preços\\n\")\n",
    "\n",
    "print(\"Quantidadde\\tValor\")\n",
    "for qtd in range(1, 51):\n",
    "    preco = qtd * 1.99\n",
    "    print(f\"{qtd}\\t\\tR$ {preco:.2f}\")"
   ]
  },
  {
   "cell_type": "code",
   "execution_count": 42,
   "metadata": {},
   "outputs": [
    {
     "name": "stdout",
     "output_type": "stream",
     "text": [
      "\n",
      "Panificadora pão de Ontem - Tabela de preços\n",
      "\n",
      "Quantidade\tValor\n",
      "1\t\tR$ 0.18\n",
      "2\t\tR$ 0.36\n",
      "3\t\tR$ 0.54\n",
      "4\t\tR$ 0.72\n",
      "5\t\tR$ 0.90\n",
      "6\t\tR$ 1.08\n",
      "7\t\tR$ 1.26\n",
      "8\t\tR$ 1.44\n",
      "9\t\tR$ 1.62\n",
      "10\t\tR$ 1.80\n",
      "11\t\tR$ 1.98\n",
      "12\t\tR$ 2.16\n",
      "13\t\tR$ 2.34\n",
      "14\t\tR$ 2.52\n",
      "15\t\tR$ 2.70\n",
      "16\t\tR$ 2.88\n",
      "17\t\tR$ 3.06\n",
      "18\t\tR$ 3.24\n",
      "19\t\tR$ 3.42\n",
      "20\t\tR$ 3.60\n",
      "21\t\tR$ 3.78\n",
      "22\t\tR$ 3.96\n",
      "23\t\tR$ 4.14\n",
      "24\t\tR$ 4.32\n",
      "25\t\tR$ 4.50\n",
      "26\t\tR$ 4.68\n",
      "27\t\tR$ 4.86\n",
      "28\t\tR$ 5.04\n",
      "29\t\tR$ 5.22\n",
      "30\t\tR$ 5.40\n",
      "31\t\tR$ 5.58\n",
      "32\t\tR$ 5.76\n",
      "33\t\tR$ 5.94\n",
      "34\t\tR$ 6.12\n",
      "35\t\tR$ 6.30\n",
      "36\t\tR$ 6.48\n",
      "37\t\tR$ 6.66\n",
      "38\t\tR$ 6.84\n",
      "39\t\tR$ 7.02\n",
      "40\t\tR$ 7.20\n",
      "41\t\tR$ 7.38\n",
      "42\t\tR$ 7.56\n",
      "43\t\tR$ 7.74\n",
      "44\t\tR$ 7.92\n",
      "45\t\tR$ 8.10\n",
      "46\t\tR$ 8.28\n",
      "47\t\tR$ 8.46\n",
      "48\t\tR$ 8.64\n",
      "49\t\tR$ 8.82\n",
      "50\t\tR$ 9.00\n"
     ]
    }
   ],
   "source": [
    "preco_pao = float(input(\"Digite o preço do pão: R$ \"))\n",
    "print(\"\\nPanificadora pão de Ontem - Tabela de preços\\n\")\n",
    "\n",
    "print(\"Quantidade\\tValor\")\n",
    "\n",
    "for qtd in range(1, 51):\n",
    "    preco_total = qtd * preco_pao\n",
    "    print(f\"{qtd}\\t\\tR$ {preco_total:.2f}\")"
   ]
  },
  {
   "cell_type": "code",
   "execution_count": 46,
   "metadata": {},
   "outputs": [
    {
     "name": "stdout",
     "output_type": "stream",
     "text": [
      "Loja de conveniências - Caixa registradora\n",
      "\n",
      "\n",
      "Total da compra: R$ 15.00\n",
      "Troco: R$ 5.00\n",
      "\n"
     ]
    }
   ],
   "source": [
    "while True:\n",
    "    print(\"Loja de conveniências - Caixa registradora\\n\")\n",
    "    \n",
    "    total_compra = 0\n",
    "    preco_produto = 1\n",
    "    \n",
    "    while preco_produto != 0:\n",
    "        preco_produto = float(input(\"Digite o preço do produto (ou 0 para finalizar a compra): R$ \"))\n",
    "        total_compra += preco_produto\n",
    "    \n",
    "    print(f\"\\nTotal da compra: R$ {total_compra:.2f}\")\n",
    "    \n",
    "    dinheiro_cliente = float(input(\"Digite o valor em dinheiro fornecido pelo cliente: R$ \"))\n",
    "    troco = dinheiro_cliente - total_compra\n",
    "    \n",
    "    print(f\"Troco: R$ {troco:.2f}\\n\")\n",
    "    \n",
    "    if troco < 0:\n",
    "        print(\"ATENÇÃO: Dinheiro fornecido é insuficiente para pagar a compra!\\n\")\n",
    "    \n",
    "    if input(\"Deseja registrar outra compra? (S/N) \").lower() != \"s\":\n",
    "        break\n"
   ]
  },
  {
   "cell_type": "code",
   "execution_count": 48,
   "metadata": {},
   "outputs": [
    {
     "name": "stdout",
     "output_type": "stream",
     "text": [
      "\n",
      "5! = 120\n"
     ]
    }
   ],
   "source": [
    "numero = int(input(\"Digite um número inteiro: \"))\n",
    "\n",
    "resultado = 1\n",
    "for i in range(2, numero+1):\n",
    "    resultado *= i\n",
    "\n",
    "print(f\"\\n{numero}! = {resultado}\")\n"
   ]
  },
  {
   "cell_type": "code",
   "execution_count": 49,
   "metadata": {},
   "outputs": [
    {
     "name": "stdout",
     "output_type": "stream",
     "text": [
      "Menor temperatura: 15.00\n",
      "Maior temperatura: 50.00\n",
      "Média das temperaturas: 28.33\n"
     ]
    }
   ],
   "source": [
    "temperaturas = []\n",
    "\n",
    "while True:\n",
    "    temp = input(\"Digite uma temperatura(ou 'fim' para encerrar):\")\n",
    "    if temp == \"fim\":\n",
    "        break\n",
    "    else:\n",
    "        temperaturas.append(float(temp))\n",
    "\n",
    "if len(temperaturas) == 0:\n",
    "    print(\"Nenhuma temperatura informada.\")\n",
    "else:\n",
    "    print(f'Menor temperatura: {min(temperaturas):.2f}')\n",
    "    print(f'Maior temperatura: {max(temperaturas):.2f}')\n",
    "    print(f\"Média das temperaturas: {sum(temperaturas) / len(temperaturas):.2f}\")"
   ]
  },
  {
   "cell_type": "code",
   "execution_count": 56,
   "metadata": {},
   "outputs": [
    {
     "name": "stdout",
     "output_type": "stream",
     "text": [
      "43 É um número primo.\n"
     ]
    }
   ],
   "source": [
    "n = int(input(\"Digite um número inteiro: \"))\n",
    "\n",
    "for i in range(2, n):\n",
    "    if n % i == 0:\n",
    "        print(n,\"Não é um número primo.\")\n",
    "        break\n",
    "else:\n",
    "     print(n, 'É um número primo.')"
   ]
  },
  {
   "cell_type": "code",
   "execution_count": 57,
   "metadata": {},
   "outputs": [
    {
     "name": "stdout",
     "output_type": "stream",
     "text": [
      "5 x 1 = 5\n",
      "5 x 2 = 10\n",
      "5 x 3 = 15\n",
      "5 x 4 = 20\n",
      "5 x 5 = 25\n",
      "5 x 6 = 30\n",
      "5 x 7 = 35\n"
     ]
    }
   ],
   "source": [
    "num = int(input(\"Digite o número da tabuada: \"))\n",
    "inicio = int(input(\"Digite o ínicio da tabuada: \"))\n",
    "fim = int(input(\"Digite o fim da tabuada:\"))\n",
    "\n",
    "for i in range(inicio, fim+1):\n",
    "    print(num, 'x', i, '=', num*i)"
   ]
  },
  {
   "cell_type": "code",
   "execution_count": 61,
   "metadata": {},
   "outputs": [
    {
     "name": "stdout",
     "output_type": "stream",
     "text": [
      "Cliente mais alto: código 1 - altura 2.2 metros\n",
      "Cliente mais baixo: código 4 - altura 1.78 metros\n",
      "Cliente mais gordo: código 1 - peso 110.0 kg\n",
      "Cliente mais magro: código 2 - peso 70.0 kg\n",
      "Média das alturas dos clientes: 2.01 metros\n",
      "Média dos pesos dos clientes: 86.25 kg\n"
     ]
    }
   ],
   "source": [
    "codigo = int(input(\"Digite o código do cliente (digite 0 para encerrar): \"))\n",
    "alturas = []\n",
    "pesos = []\n",
    "cod_alt = cod_baix = cod_gordo = cod_magro = None\n",
    "alt_maior = alt_menor = peso_maior = peso_menor = 0\n",
    "\n",
    "while codigo != 0:\n",
    "    altura = float(input(\"Digite a altura do cliente em metros: \"))\n",
    "    peso = float(input(\"Digite o peso do cliente em quilogramas: \"))\n",
    "\n",
    "    alturas.append(altura)\n",
    "    pesos.append(peso)\n",
    "\n",
    "    if alt_maior < altura:\n",
    "        alt_maior = altura\n",
    "        cod_alt = codigo\n",
    "    \n",
    "    if alt_menor == 0 or alt_menor > altura:\n",
    "        alt_menor = altura\n",
    "        cod_baix = codigo\n",
    "    \n",
    "    if peso_maior < peso:\n",
    "        peso_maior = peso\n",
    "        cod_gordo = codigo\n",
    "    \n",
    "    if peso_menor == 0 or peso_menor > peso:\n",
    "        peso_menor = peso\n",
    "        cod_magro = codigo\n",
    "\n",
    "    codigo = int(input(\"Digite o código do cliente (digite 0 para encerrar): \"))\n",
    "\n",
    "media_altura = sum(alturas) / len(alturas)\n",
    "media_peso = sum(pesos) / len(pesos)\n",
    "\n",
    "print(\"Cliente mais alto: código {} - altura {} metros\".format(cod_alt, alt_maior))\n",
    "print(\"Cliente mais baixo: código {} - altura {} metros\".format(cod_baix, alt_menor))\n",
    "print(\"Cliente mais gordo: código {} - peso {} kg\".format(cod_gordo, peso_maior))\n",
    "print(\"Cliente mais magro: código {} - peso {} kg\".format(cod_magro, peso_menor))\n",
    "print(\"Média das alturas dos clientes: {:.2f} metros\".format(media_altura))\n",
    "print(\"Média dos pesos dos clientes: {:.2f} kg\".format(media_peso))\n"
   ]
  },
  {
   "cell_type": "code",
   "execution_count": 71,
   "metadata": {},
   "outputs": [
    {
     "name": "stdout",
     "output_type": "stream",
     "text": [
      "O salário atual do funcionário é R$ 7991153224284128798258150233991349427319130527005635733005380091904.00\n"
     ]
    }
   ],
   "source": [
    "# Salário inicial em 1995\n",
    "salario_inicial = float(input(\"Digite o salário inicial do funcionário: \"))\n",
    "ano = 1995\n",
    "salario_atual = salario_inicial\n",
    "\n",
    "# Aumento em 1996\n",
    "aumento = salario_inicial * 0.015\n",
    "salario_atual += aumento\n",
    "\n",
    "# Aumentos a partir de 1997\n",
    "percentual_aumento = 0.03  # percentual do primeiro ano de aumento (1997)\n",
    "ano = 1997\n",
    "\n",
    "while ano <= 2022:\n",
    "    aumento = salario_atual * percentual_aumento\n",
    "    salario_atual += aumento\n",
    "    percentual_aumento *= 2\n",
    "    ano += 1\n",
    "\n",
    "print(\"O salário atual do funcionário é R$ {:.2f}\".format(salario_atual))\n"
   ]
  },
  {
   "cell_type": "code",
   "execution_count": 72,
   "metadata": {},
   "outputs": [
    {
     "name": "stdout",
     "output_type": "stream",
     "text": [
      "O aluno mais alto é o número 7, com 1.99cm de altura.\n",
      "O aluno mais baixo é o número 2, com 1.6cm de altura.\n"
     ]
    }
   ],
   "source": [
    "# inicializa as variáveis de controle do loop\n",
    "num_aluno = 1\n",
    "maior_altura = 0\n",
    "maior_num_aluno = 0\n",
    "menor_altura = float('inf')\n",
    "menor_num_aluno = 0\n",
    "\n",
    "# lê as alturas dos dez alunos e encontra o mais alto e o mais baixo\n",
    "while num_aluno <= 10:\n",
    "    altura = float(input(\"Digite a altura do aluno {}: \".format(num_aluno)))\n",
    "    if altura > maior_altura:\n",
    "        maior_altura = altura\n",
    "        maior_num_aluno = num_aluno\n",
    "    if altura < menor_altura:\n",
    "        menor_altura = altura\n",
    "        menor_num_aluno = num_aluno\n",
    "    num_aluno += 1\n",
    "\n",
    "# imprime o resultado\n",
    "print(\"O aluno mais alto é o número {}, com {}cm de altura.\".format(maior_num_aluno, maior_altura))\n",
    "print(\"O aluno mais baixo é o número {}, com {}cm de altura.\".format(menor_num_aluno, menor_altura))\n"
   ]
  },
  {
   "cell_type": "code",
   "execution_count": null,
   "metadata": {},
   "outputs": [],
   "source": [
    "# inicializa as variáveis de controle do loop\n",
    "codigo_cidade = 1\n",
    "maior_indice = 0\n",
    "maior_cidade = 0\n",
    "menor_indice = float('inf')\n",
    "menor_cidade = 0\n",
    "total_veiculos = 0\n",
    "total_acidentes = 0\n",
    "qtd_cidades_menos_2000 = 0\n",
    "\n",
    "# lê os dados das cinco cidades\n",
    "while codigo_cidade <= 5:\n",
    "    codigo_cidade = int(input(\"Digite o código da cidade: \"))\n",
    "    num_veiculos = int(input(\"Digite o número de veículos de passeio em 1999: \"))\n",
    "    num_acidentes = int(input(\"Digite o número de acidentes de trânsito com vítimas em 1999: \"))\n",
    "    indice_acidentes = num_acidentes / num_veiculos\n",
    "    total_veiculos += num_veiculos\n",
    "    total_acidentes += num_acidentes\n",
    "    if num_veiculos < 2000:\n",
    "        qtd_cidades_menos_2000 += 1\n",
    "        media_acidentes_menos_2000 = total_acidentes / qtd_cidades_menos_2000\n",
    "    if indice_acidentes > maior_indice:\n",
    "        maior_indice = indice_acidentes\n",
    "        maior_cidade = codigo_cidade\n",
    "    if indice_acidentes < menor_indice:\n",
    "        menor_indice = indice_acidentes\n",
    "        menor_cidade = codigo_cidade\n",
    "\n",
    "# calcula as estatísticas e imprime o resultado\n",
    "media_veiculos = total_veiculos / 5\n",
    "print(\"Maior índice de acidentes: {:.2f}, cidade {}.\".format(maior_indice, maior_cidade))\n",
    "print(\"Menor índice de acidentes: {:.2f}, cidade {}.\".format(menor_indice, menor_cidade))\n",
    "print(\"Média de veículos nas cinco cidades: {:.2f}.\".format(media_veiculos))\n",
    "print(\"Média de acidentes nas cidades com menos de 2000 veículos: {:.2f}.\".format(media_acidentes_menos_2000))\n"
   ]
  },
  {
   "cell_type": "code",
   "execution_count": null,
   "metadata": {},
   "outputs": [],
   "source": []
  }
 ],
 "metadata": {
  "kernelspec": {
   "display_name": "Python 3",
   "language": "python",
   "name": "python3"
  },
  "language_info": {
   "codemirror_mode": {
    "name": "ipython",
    "version": 3
   },
   "file_extension": ".py",
   "mimetype": "text/x-python",
   "name": "python",
   "nbconvert_exporter": "python",
   "pygments_lexer": "ipython3",
   "version": "3.10.11"
  },
  "orig_nbformat": 4,
  "vscode": {
   "interpreter": {
    "hash": "97d8360aa587f088dc48a5cfc85d862b39b7369e8dd6384ef497db7ea551351f"
   }
  }
 },
 "nbformat": 4,
 "nbformat_minor": 2
}
