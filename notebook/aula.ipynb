{
 "cells": [
  {
   "cell_type": "code",
   "execution_count": 1,
   "metadata": {},
   "outputs": [
    {
     "name": "stdout",
     "output_type": "stream",
     "text": [
      "Salário Bruto: R$ 4000.00\n",
      "IR: R$ 440.00\n",
      "INSS: R$ 320.00\n",
      "Sindicato: R$ 200.00\n",
      "Salário liquido: R$ 3040.00\n"
     ]
    }
   ],
   "source": [
    "qnt_ganha = float(input(\"Quanto ganha por hora?\"))\n",
    "horas_trabalhadas = int(input(\"Quantas horas trabalha p/dia?\"))\n",
    "salario_bruto = qnt_ganha * horas_trabalhadas\n",
    "ir = salario_bruto * 0.11\n",
    "inss = salario_bruto * 0.08\n",
    "sindicato = salario_bruto * 0.05\n",
    "\n",
    "print(\"Salário Bruto: R$ %.2f\" %salario_bruto)\n",
    "print(\"IR: R$ %.2f\" %ir)\n",
    "print(\"INSS: R$ %.2f\" %inss)\n",
    "print(\"Sindicato: R$ %.2f\" %sindicato)\n",
    "print(\"Salário liquido: R$ %.2f\" %(salario_bruto - ir - inss - sindicato))"
   ]
  },
  {
   "cell_type": "code",
   "execution_count": 10,
   "metadata": {},
   "outputs": [
    {
     "name": "stdout",
     "output_type": "stream",
     "text": [
      "você deverá comprar 4 latas\n",
      "o valor total é 320\n"
     ]
    }
   ],
   "source": [
    "tamanho = float(input('Quantos metros você quer pintar?'))\n",
    "litro = tamanho/3.0\n",
    "\n",
    "if litro > 18 or litro == 18:\n",
    "    latas = int(litro/18.0)\n",
    "\n",
    "print('você deverá comprar', latas, 'latas')\n",
    "print('o valor total é', latas*80)"
   ]
  },
  {
   "cell_type": "code",
   "execution_count": 1,
   "metadata": {},
   "outputs": [
    {
     "name": "stdout",
     "output_type": "stream",
     "text": [
      "Quantidade de tinta necessária: 18.333333333333336\n",
      "Quantidade de latas de 18 litros:  2\n",
      "Preço das latas de 18 litros: R$  160\n",
      "Quantidade de galões de 3,6 litros:  6\n",
      "Preço dos galões de 3,6 litros: R$  150\n",
      "Quant de latas de 18 litros e galões de 3,6 litros misturados:  latas  1\n",
      "Quant de latas de 18 litros e galões de 3,6 litros misturados:  galoes  1\n",
      "Preço das latas e galões misturados: R$  105\n"
     ]
    }
   ],
   "source": [
    "import math\n",
    "\n",
    "area = float(input('Digite o tamanho em metros quadrados a ser pintado:'))\n",
    "\n",
    "litros = area / 6\n",
    "litros_com_folga = litros * 1.1\n",
    "\n",
    "latas = math.ceil(litros_com_folga / 18)\n",
    "preco_latas = latas * 80\n",
    "\n",
    "galoes = math.ceil(litros_com_folga / 3.6)\n",
    "preco_galoes = galoes * 25\n",
    "\n",
    "latas_misturadas = int(litros_com_folga // 18)\n",
    "sobra_litros = litros_com_folga % 18\n",
    "galoes_misturados = math.ceil(sobra_litros / 3.6)\n",
    "preco_misturado = latas_misturadas * 80 + galoes_misturados * 25\n",
    "\n",
    "print('Quantidade de tinta necessária:', litros_com_folga)\n",
    "print(\"Quantidade de latas de 18 litros: \",latas)\n",
    "print(\"Preço das latas de 18 litros: R$ \",preco_latas)\n",
    "print(\"Quantidade de galões de 3,6 litros: \",galoes)\n",
    "print(\"Preço dos galões de 3,6 litros: R$ \",preco_galoes)\n",
    "print(\"Quant de latas de 18 litros e galões de 3,6 litros misturados:  latas \",latas_misturadas)\n",
    "print(\"Quant de latas de 18 litros e galões de 3,6 litros misturados:  galoes \",galoes_misturados)\n",
    "print(\"Preço das latas e galões misturados: R$ \",preco_misturado)"
   ]
  },
  {
   "cell_type": "code",
   "execution_count": 3,
   "metadata": {},
   "outputs": [
    {
     "name": "stdout",
     "output_type": "stream",
     "text": [
      "O tempo aproximado é de download é de 11.333333333333334\n"
     ]
    }
   ],
   "source": [
    "tamanho_arquivo = float(input('Digite o tamanho do arquivo em MB:'))\n",
    "velocidade_internet = float(input('Digite a velocidade da internet em Mbps:'))\n",
    "\n",
    "tempo_aproximado = tamanho_arquivo / (velocidade_internet / 8) / 60\n",
    "\n",
    "print('O tempo aproximado é de download é de', tempo_aproximado)"
   ]
  }
 ],
 "metadata": {
  "kernelspec": {
   "display_name": "Python 3",
   "language": "python",
   "name": "python3"
  },
  "language_info": {
   "codemirror_mode": {
    "name": "ipython",
    "version": 3
   },
   "file_extension": ".py",
   "mimetype": "text/x-python",
   "name": "python",
   "nbconvert_exporter": "python",
   "pygments_lexer": "ipython3",
   "version": "3.10.11"
  },
  "orig_nbformat": 4,
  "vscode": {
   "interpreter": {
    "hash": "97d8360aa587f088dc48a5cfc85d862b39b7369e8dd6384ef497db7ea551351f"
   }
  }
 },
 "nbformat": 4,
 "nbformat_minor": 2
}
