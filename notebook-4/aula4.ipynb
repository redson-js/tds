{
 "cells": [
  {
   "attachments": {},
   "cell_type": "markdown",
   "metadata": {},
   "source": [
    "1) Faça um programa que leia um vetor de 5 números inteiros e mostre-os."
   ]
  },
  {
   "cell_type": "code",
   "execution_count": 12,
   "metadata": {},
   "outputs": [
    {
     "name": "stdout",
     "output_type": "stream",
     "text": [
      "Vetor: \n",
      "5\n",
      "4\n",
      "3\n",
      "4\n",
      "5\n"
     ]
    }
   ],
   "source": [
    "vetor = [0] * 5\n",
    "\n",
    "for i in range(5):\n",
    "    vetor[i] = int(input(\"Digite o valor do elemento %d: \" % (i+1)))\n",
    "\n",
    "print('Vetor: ')\n",
    "for valor in vetor:\n",
    "    print(valor)"
   ]
  },
  {
   "attachments": {},
   "cell_type": "markdown",
   "metadata": {},
   "source": [
    "2) Faça um programa que leia um vetor de 10 números reais e mostre-os na ordem inversa."
   ]
  },
  {
   "cell_type": "code",
   "execution_count": 11,
   "metadata": {},
   "outputs": [
    {
     "name": "stdout",
     "output_type": "stream",
     "text": [
      "Vetor na ordem inversa:\n",
      "89.0\n",
      "69.0\n",
      "34.0\n",
      "11.0\n",
      "23.0\n",
      "3.0\n",
      "4.0\n",
      "33.0\n",
      "4.0\n",
      "5.0\n"
     ]
    }
   ],
   "source": [
    "# Cria um vetor vazio com capacidade para 10 elementos\n",
    "vetor = [0] * 10\n",
    "\n",
    "# Lê os valores do vetor\n",
    "for i in range(10):\n",
    "    vetor[i] = float(input(\"Digite o valor do elemento %d: \" % (i+1)))\n",
    "\n",
    "# Mostra os valores do vetor na ordem inversa\n",
    "print(\"Vetor na ordem inversa:\")\n",
    "for i in range(9, -1, -1):\n",
    "    print(vetor[i])\n"
   ]
  },
  {
   "attachments": {},
   "cell_type": "markdown",
   "metadata": {},
   "source": [
    "3) Faça um programa que leia 4 notas, mostre as notas e a média na tela."
   ]
  },
  {
   "cell_type": "code",
   "execution_count": 1,
   "metadata": {},
   "outputs": [
    {
     "name": "stdout",
     "output_type": "stream",
     "text": [
      "Notas digitadas:\n",
      "Nota 1: 10.0\n",
      "Nota 2: 8.0\n",
      "Nota 3: 9.0\n",
      "Nota 4: 10.0\n",
      "Média: 9.25\n"
     ]
    }
   ],
   "source": [
    "notas = []\n",
    "for i in range(4):\n",
    "    nota = float(input(\"Digite a nota {}: \".format(i + 1)))\n",
    "    notas.append(nota)\n",
    "\n",
    "media = sum(notas) / len(notas)\n",
    "\n",
    "print(\"Notas digitadas:\")\n",
    "for i, nota in enumerate(notas):\n",
    "    print(\"Nota {}: {}\".format(i + 1, nota))\n",
    "\n",
    "print(\"Média: {:.2f}\".format(media))\n"
   ]
  },
  {
   "attachments": {},
   "cell_type": "markdown",
   "metadata": {},
   "source": [
    "4) Faça um programa que leia um vetor de 10 caracteres, e diga quantas consoantes foram lidas. Imprima as consoantes."
   ]
  },
  {
   "cell_type": "code",
   "execution_count": 2,
   "metadata": {},
   "outputs": [
    {
     "name": "stdout",
     "output_type": "stream",
     "text": [
      "Quantidade de consoantes: 5\n",
      "Consoantes encontradas: F, G, H, R, J\n"
     ]
    }
   ],
   "source": [
    "vetor = []\n",
    "consoantes = 0\n",
    "\n",
    "for i in range(10):\n",
    "    caractere = input(\"Digite o caractere {}: \".format(i + 1))\n",
    "    vetor.append(caractere)\n",
    "\n",
    "    if caractere.isalpha() and caractere.lower() not in ['a', 'e', 'i', 'o', 'u']:\n",
    "        consoantes += 1\n",
    "\n",
    "consoantes_encontradas = []\n",
    "\n",
    "for caractere in vetor:\n",
    "    if caractere.isalpha() and caractere.lower() not in ['a', 'e', 'i', 'o', 'u']:\n",
    "        consoantes_encontradas.append(caractere)\n",
    "\n",
    "print(\"Quantidade de consoantes: {}\".format(consoantes))\n",
    "print(\"Consoantes encontradas:\", \", \".join(consoantes_encontradas))\n"
   ]
  },
  {
   "attachments": {},
   "cell_type": "markdown",
   "metadata": {},
   "source": [
    "5) Faça um programa que leia 20 números inteiros e armazene-os num vetor. Armazene os números pares no vetor par e os número ímpares no vetor ímpar. Imprima os três vetores."
   ]
  },
  {
   "cell_type": "code",
   "execution_count": 5,
   "metadata": {},
   "outputs": [
    {
     "name": "stdout",
     "output_type": "stream",
     "text": [
      "Vetor completo: [2, 23, 23, 4, 5, 5, 66, 765, 45, 34, 321, 123, 3456, 566, 666, 669, 764, 456, 423, 22]\n",
      "Vetor de números pares: [2, 4, 66, 34, 3456, 566, 666, 764, 456, 22]\n",
      "Vetor de números ímpares: [23, 23, 5, 5, 765, 45, 321, 123, 669, 423]\n"
     ]
    }
   ],
   "source": [
    "vetor = []\n",
    "par = []\n",
    "ímpar = []\n",
    "\n",
    "for i in range(20):\n",
    "    número = int(input(\"Digite o número {}: \".format(i + 1)))\n",
    "    vetor.append(número)\n",
    "    if número % 2 == 0:\n",
    "        par.append(número)\n",
    "    else:\n",
    "        ímpar.append(número)\n",
    "\n",
    "print(\"Vetor completo:\", vetor)\n",
    "print(\"Vetor de números pares:\", par)\n",
    "print(\"Vetor de números ímpares:\", ímpar)\n"
   ]
  },
  {
   "attachments": {},
   "cell_type": "markdown",
   "metadata": {},
   "source": [
    "6) Faça um programa que peça as quatro notas de 10 alunos, calcule e armazene num vetor a média de cada aluno, imprima o número de alunos com média maior ou igual a 7."
   ]
  },
  {
   "cell_type": "code",
   "execution_count": 6,
   "metadata": {},
   "outputs": [
    {
     "name": "stdout",
     "output_type": "stream",
     "text": [
      "Número de alunos com média maior ou igual a 7: 6\n"
     ]
    }
   ],
   "source": [
    "medias = []\n",
    "\n",
    "for i in range(10):\n",
    "    notas = []\n",
    "    for j in range(4):\n",
    "        nota = float(input(\"Digite a nota {} do aluno {}: \".format(j + 1, i + 1)))\n",
    "        notas.append(nota)\n",
    "\n",
    "    media = sum(notas) / len(notas)\n",
    "    medias.append(media)\n",
    "\n",
    "alunos_aprovados = sum(1 for media in medias if media >= 7)\n",
    "\n",
    "print(\"Número de alunos com média maior ou igual a 7: {}\".format(alunos_aprovados))\n"
   ]
  },
  {
   "attachments": {},
   "cell_type": "markdown",
   "metadata": {},
   "source": [
    "7) Faça um programa que leia 5 números inteiros, mostre a soma, multiplicação e os números."
   ]
  },
  {
   "cell_type": "code",
   "execution_count": 7,
   "metadata": {},
   "outputs": [
    {
     "name": "stdout",
     "output_type": "stream",
     "text": [
      "Números digitados: [5, 6, 7, 8, 9]\n",
      "Soma dos números: 35\n",
      "Multiplicação dos números: 15120\n"
     ]
    }
   ],
   "source": [
    "numeros = []\n",
    "\n",
    "for i in range(5):\n",
    "    numero = int(input(\"Digite o número {}: \".format(i + 1)))\n",
    "    numeros.append(numero)\n",
    "\n",
    "soma = sum(numeros)\n",
    "multiplicacao = 1\n",
    "for numero in numeros:\n",
    "    multiplicacao *= numero\n",
    "\n",
    "print(\"Números digitados:\", numeros)\n",
    "print(\"Soma dos números:\", soma)\n",
    "print(\"Multiplicação dos números:\", multiplicacao)\n"
   ]
  },
  {
   "attachments": {},
   "cell_type": "markdown",
   "metadata": {},
   "source": [
    "8) Faça um programa que peça a idade e altura de 5 pessoas, armazene as informações no seu respectivo vetor. Imprima a idade e altura na ordem inversa a ordem lida."
   ]
  },
  {
   "cell_type": "code",
   "execution_count": 9,
   "metadata": {},
   "outputs": [
    {
     "name": "stdout",
     "output_type": "stream",
     "text": [
      "Idades na ordem inversa:\n",
      "35\n",
      "17\n",
      "18\n",
      "43\n",
      "32\n",
      "Alturas na ordem inversa:\n",
      "1.55\n",
      "1.9\n",
      "1.89\n",
      "1.75\n",
      "1.8\n"
     ]
    }
   ],
   "source": [
    "idades = []\n",
    "alturas = []\n",
    "\n",
    "for i in range(5):\n",
    "    idade = int(input(\"Digite a idade da pessoa {}: \".format(i + 1)))\n",
    "    altura = float(input(\"Digite a altura da pessoa {}: \".format(i + 1)))\n",
    "    idades.append(idade)\n",
    "    alturas.append(altura)\n",
    "\n",
    "print(\"Idades na ordem inversa:\")\n",
    "for idade in reversed(idades):\n",
    "    print(idade)\n",
    "\n",
    "print(\"Alturas na ordem inversa:\")\n",
    "for altura in reversed(alturas):\n",
    "    print(altura)\n"
   ]
  },
  {
   "attachments": {},
   "cell_type": "markdown",
   "metadata": {},
   "source": [
    "9) Faça um programa que leia um vetor a com 10 números inteiros, calcule e mostre a soma dos quadrados dos elementos do vetor."
   ]
  },
  {
   "cell_type": "code",
   "execution_count": 10,
   "metadata": {},
   "outputs": [
    {
     "name": "stdout",
     "output_type": "stream",
     "text": [
      "Soma dos quadrados dos elementos do vetor: 199066\n"
     ]
    }
   ],
   "source": [
    "vetor = []\n",
    "\n",
    "for i in range(10):\n",
    "    numero = int(input(\"Digite o número {}: \".format(i + 1)))\n",
    "    vetor.append(numero)\n",
    "\n",
    "soma_quadrados = sum(numero ** 2 for numero in vetor)\n",
    "\n",
    "print(\"Soma dos quadrados dos elementos do vetor:\", soma_quadrados)\n"
   ]
  },
  {
   "attachments": {},
   "cell_type": "markdown",
   "metadata": {},
   "source": [
    "10) Faça um programa que leia dois vetores com 10 elementos cada. Gere um terceiro vetor de 20 elementos, cujos valores deverão ser compostos pelos elementos intercalados dos dois vetores."
   ]
  },
  {
   "cell_type": "code",
   "execution_count": null,
   "metadata": {},
   "outputs": [],
   "source": [
    "vetor1 = []\n",
    "vetor2 = []\n",
    "\n",
    "for i in range(10):\n",
    "    numero1 = int(input(\"Digite o número {} do vetor 1: \".format(i + 1)))\n",
    "    vetor1.append(numero1)\n",
    "\n",
    "for i in range(10):\n",
    "    numero2 = int(input(\"Digite o número {} do vetor 2: \".format(i + 1)))\n",
    "    vetor2.append(numero2)\n",
    "\n",
    "vetor_intercalado = []\n",
    "for i in range(10):\n",
    "    vetor_intercalado.append(vetor1[i])\n",
    "    vetor_intercalado.append(vetor2[i])\n",
    "\n",
    "print(\"Vetor intercalado:\", vetor_intercalado)\n"
   ]
  },
  {
   "attachments": {},
   "cell_type": "markdown",
   "metadata": {},
   "source": [
    "11) Altere o programa anterior, intercalando 3 vetores de 10 elementos cada."
   ]
  },
  {
   "cell_type": "code",
   "execution_count": null,
   "metadata": {},
   "outputs": [],
   "source": [
    "vetor1 = []\n",
    "vetor2 = []\n",
    "vetor3 = []\n",
    "\n",
    "for i in range(10):\n",
    "    numero1 = int(input(\"Digite o número {} do vetor 1: \".format(i + 1)))\n",
    "    vetor1.append(numero1)\n",
    "\n",
    "for i in range(10):\n",
    "    numero2 = int(input(\"Digite o número {} do vetor 2: \".format(i + 1)))\n",
    "    vetor2.append(numero2)\n",
    "\n",
    "for i in range(10):\n",
    "    numero3 = int(input(\"Digite o número {} do vetor 3: \".format(i + 1)))\n",
    "    vetor3.append(numero3)\n",
    "\n",
    "vetor_intercalado = []\n",
    "for i in range(10):\n",
    "    vetor_intercalado.append(vetor1[i])\n",
    "    vetor_intercalado.append(vetor2[i])\n",
    "    vetor_intercalado.append(vetor3[i])\n",
    "\n",
    "print(\"Vetor intercalado:\", vetor_intercalado)\n"
   ]
  },
  {
   "attachments": {},
   "cell_type": "markdown",
   "metadata": {},
   "source": [
    "12) Foram anotadas as idades e alturas de 30 alunos. Faça um programa que determine quantos  alunos com mais de 13 anos possuem altura inferior à média de altura desses alunos."
   ]
  },
  {
   "cell_type": "code",
   "execution_count": null,
   "metadata": {},
   "outputs": [],
   "source": [
    "idades = []\n",
    "alturas = []\n",
    "\n",
    "for i in range(30):\n",
    "    idade = int(input(\"Digite a idade do aluno {}: \".format(i + 1)))\n",
    "    altura = float(input(\"Digite a altura do aluno {}: \".format(i + 1)))\n",
    "    idades.append(idade)\n",
    "    alturas.append(altura)\n",
    "\n",
    "media_alturas = sum(alturas) / len(alturas)\n",
    "\n",
    "alunos_com_menos_de_media = 0\n",
    "for i in range(30):\n",
    "    if idades[i] > 13 and alturas[i] < media_alturas:\n",
    "        alunos_com_menos_de_media += 1\n",
    "\n",
    "print(\"Número de alunos com mais de 13 anos e altura inferior à média:\", alunos_com_menos_de_media)\n"
   ]
  },
  {
   "attachments": {},
   "cell_type": "markdown",
   "metadata": {},
   "source": [
    "13) Faça um programa que receba a temperatura média de cada mês do ano e armazene-as em uma lista. Após isto, calcule a média anual das temperaturas e mostre todas as temperaturas acima da média anual, e em que mês elas ocorreram (mostrar mês por extenso: 1 - Janeiro, 2 - Fevereiro)."
   ]
  },
  {
   "cell_type": "code",
   "execution_count": 13,
   "metadata": {},
   "outputs": [
    {
     "name": "stdout",
     "output_type": "stream",
     "text": [
      "Temperaturas acima da média anual:\n",
      "Janeiro: 34.00\n",
      "Fevereiro: 45.00\n",
      "Abril: 30.00\n",
      "Maio: 35.00\n",
      "Junho: 35.00\n",
      "Julho: 39.00\n",
      "Agosto: 40.00\n",
      "Setembro: 39.00\n"
     ]
    }
   ],
   "source": [
    "meses = [\n",
    "    'Janeiro', 'Fevereiro', 'Março', 'Abril', 'Maio',\n",
    "    'Junho', 'Julho', 'Agosto', 'Setembro', 'Outubro',\n",
    "    'Novembro', 'Dezembro'\n",
    "]\n",
    "\n",
    "temperaturas = []\n",
    "\n",
    "for i in range(12):\n",
    "    temperatura = float(input(\"Digite a temperatura média de %s: \" % meses[i]))\n",
    "    temperaturas.append(temperatura)\n",
    "\n",
    "media_anual = sum(temperaturas) / len(temperaturas)\n",
    "\n",
    "print(\"Temperaturas acima da média anual:\")\n",
    "for i in range(12):\n",
    "    if temperaturas[i] > media_anual:\n",
    "        print(\"%s: %.2f\" % (meses[i], temperaturas[i]))"
   ]
  },
  {
   "attachments": {},
   "cell_type": "markdown",
   "metadata": {},
   "source": [
    "14) Utilizando listas faça um programa que faça 5 perguntas para uma pessoa sobre um crime. As perguntas são:\n",
    "a) \"Telefonou para a vítima?\"\n",
    "b) \"Esteve no local do crime?\"\n",
    "c) \"Mora perto da vítima?\"\n",
    "d) \"Devia para a vítima?\"\n",
    "e) \"Já trabalhou com a vítima?\"\n",
    "o programa deve no final enviar uma classificação sobre a participação da pessoa no crima. Se a pessoa responder positivamente a 2 questões ela deve ser classificada como \"Suspeita\", entre 3 e 4 como \"Cúmplice\" e 5 \"Assassino\". caso contrário, ele será classificado como \"Inocente\"."
   ]
  },
  {
   "cell_type": "code",
   "execution_count": 14,
   "metadata": {},
   "outputs": [
    {
     "name": "stdout",
     "output_type": "stream",
     "text": [
      "Classificação: Suspeita\n"
     ]
    }
   ],
   "source": [
    "perguntas = [\n",
    "    \"Telefonou para a vítima? (S/N): \",\n",
    "    \"Esteve no local do crime? (S/N): \", \n",
    "    \"Mora perto da vítima? (S/N): \", \n",
    "    \"Devia para a vítima? (S/N): \",\n",
    "    \"Já trabalhou com a vítima? (S/N): \"\n",
    "]\n",
    "\n",
    "respostas = []\n",
    "\n",
    "for pergunta in perguntas:\n",
    "    resposta = input(pergunta)\n",
    "    respostas.append(resposta.upper())\n",
    "\n",
    "positivas = respostas.count(\"S\")\n",
    "\n",
    "if positivas == 2:\n",
    "    classificacao = \"Suspeita\"\n",
    "elif 3 <= positivas <= 4:\n",
    "    classificacao = \"Cúmplice\"\n",
    "elif positivas == 5:\n",
    "    classificacao = \"Assassino\"\n",
    "else:\n",
    "    classificacao = \"Inocente\"\n",
    "\n",
    "print(\"Classificação: %s\" % classificacao)"
   ]
  },
  {
   "attachments": {},
   "cell_type": "markdown",
   "metadata": {},
   "source": [
    "15) Faça um programa que leia um número indeterminado de valores, correspondentes a notas, encerrando a entrada de dados qunado for informado um valor igual a -1 (que não deve ser armazenado). Após esta entrada de dados, faça:\n",
    "a) Mostre a quantidade de valores que foram lidos;\n",
    "b) exiba todos os valores na ordem em que foram informados, um ao lado do outro;\n",
    "c) exiba todos os valores na ordem inversa à que foram informados, um a baixo do outro;\n",
    "d) calcule e mostre a soma dos valores;\n",
    "e) calcule e mostre a média dos valores; \n",
    "f) calcule e mostre a quantidade de valores acima da média calculada;\n",
    "g) calcule e mostre a quantidade de valores abaixo da média calculada;\n",
    "h) Encerre o programa com uma mensagem;"
   ]
  },
  {
   "cell_type": "code",
   "execution_count": 15,
   "metadata": {},
   "outputs": [
    {
     "name": "stdout",
     "output_type": "stream",
     "text": [
      "Quantidades de valores lidos:  8\n",
      "Valores informados (na mesma ordem): \n",
      "5.04.010.010.07.09.00.010.0\n",
      "Valores informados (na ordem inversa):\n",
      "10.0\n",
      "0.0\n",
      "9.0\n",
      "7.0\n",
      "10.0\n",
      "10.0\n",
      "4.0\n",
      "5.0\n",
      "Soma dos valores:  55.0\n",
      "Média dos valores:  6.875\n",
      "Quantidade de valores acima da média:  5\n",
      "Quantidade de valores abaixo da média:  3\n",
      "Programa encerrado!\n"
     ]
    }
   ],
   "source": [
    "notas = []\n",
    "valor = 0\n",
    "\n",
    "while valor != -1:\n",
    "    valor = float(input(\"Digite uma nota (-1 para encerrar): \"))\n",
    "    if valor != -1:\n",
    "        notas.append(valor)\n",
    "\n",
    "quantidade = len(notas)\n",
    "print(\"Quantidades de valores lidos: \", quantidade)\n",
    "\n",
    "print(\"Valores informados (na mesma ordem): \")\n",
    "for nota in notas:\n",
    "    print(nota, end='')\n",
    "\n",
    "print(\"\\nValores informados (na ordem inversa):\")\n",
    "for nota in reversed(notas):\n",
    "    print(nota)\n",
    "\n",
    "soma = sum(notas)\n",
    "print(\"Soma dos valores: \", soma)\n",
    "\n",
    "media = soma / quantidade\n",
    "print(\"Média dos valores: \", media)\n",
    "\n",
    "acima_media = sum(1 for nota in notas if nota > media)\n",
    "print(\"Quantidade de valores acima da média: \", acima_media)\n",
    "\n",
    "abaixo_media = sum(1 for nota in notas if nota < media)\n",
    "print(\"Quantidade de valores abaixo da média: \", abaixo_media)\n",
    "\n",
    "print(\"Programa encerrado!\")"
   ]
  },
  {
   "attachments": {},
   "cell_type": "markdown",
   "metadata": {},
   "source": [
    "16) Utilize uma lista para resolver o problema a seguir. Uma empresa paga seus vendedores com base em comissões. O vendendor recebe $200 por semana mais 9%(por cento) de suas vendas brutas daquela semana. Por exemplo, um vendendor que teve vendas brutas de $3000 em uma semana recebe $200 mais 9%(por cento) de $3000, ou seja, um total de $470. Escreva um programa (usando um array de contadores) que determine quantos vendedodres receberam salários nos seguntes intervalos de valores:\n",
    "a) $200 - $299\n",
    "b) $300 - $399\n",
    "c) $400 - $499\n",
    "d) $500 - $599\n",
    "e) $600 - $699\n",
    "f) $700 - $799\n",
    "g) $800 - $899\n",
    "h) $900 - $999\n",
    "i) $1000 em diante\n",
    "Desafio: crie uma fórmula para chegar na posição da lista a partir do salário, sem fazer vários ifs aninhados."
   ]
  },
  {
   "cell_type": "code",
   "execution_count": 20,
   "metadata": {},
   "outputs": [
    {
     "name": "stdout",
     "output_type": "stream",
     "text": [
      "$200 - $299: 7 vendedor(es)\n",
      "$300 - $399: 0 vendedor(es)\n",
      "$400 - $499: 0 vendedor(es)\n",
      "$500 - $599: 0 vendedor(es)\n",
      "$600 - $699: 0 vendedor(es)\n",
      "$700 - $799: 0 vendedor(es)\n",
      "$800 - $899: 0 vendedor(es)\n",
      "$900 - $999: 0 vendedor(es)\n",
      "$1000 em diante: 0 vendedor(es)\n",
      "Programa encerrado.\n"
     ]
    }
   ],
   "source": [
    "salarios = [0] * 9  \n",
    "\n",
    "while True:\n",
    "    vendas_brutas = float(input(\"Informe as vendas brutas (-1 para encerrar): \"))\n",
    "    if vendas_brutas == -1:\n",
    "        break\n",
    "\n",
    "    salario = 200 + 0.09 * vendas_brutas  \n",
    "    indice = int((salario - 200) // 100)  \n",
    "\n",
    "    if 0 <= indice <= 8:\n",
    "        salarios[indice] += 1\n",
    "\n",
    "\n",
    "intervalos = [\"$200 - $299\", \"$300 - $399\", \"$400 - $499\", \"$500 - $599\", \"$600 - $699\",\n",
    "              \"$700 - $799\", \"$800 - $899\", \"$900 - $999\", \"$1000 em diante\"]\n",
    "\n",
    "for i in range(9):\n",
    "    print(f\"{intervalos[i]}: {salarios[i]} vendedor(es)\")\n",
    "\n",
    "print(\"Programa encerrado.\")\n"
   ]
  },
  {
   "attachments": {},
   "cell_type": "markdown",
   "metadata": {},
   "source": [
    "17) Em uma competição de salto em distância cada atleta tem direito a cinco saltos. O resultado do atleta será determinado pela média dos 5 valores restantes. você deve fazer um programa que receba o nome e as 5 distâncias alcançadas pelo atleta em seus saltos e depois informe o nome, os saltos e a média dos saltos. O programa deve ser encerrado quando não for informado o nome do atleta. A saída do programa deve ser conforme o exemplo abaixo:\n",
    "\n",
    "Atleta: Rodrigo Curvéllo\n",
    "\n",
    "1° salto: 6.5 m\n",
    "2° salto: 6.1 m\n",
    "3° salto: 6.2 m\n",
    "4° salto: 5.4 m\n",
    "5° salto: 5.3 m\n",
    "\n",
    "Resultado final:\n",
    "Atleta: Rodrigo Curvéllo\n",
    "Saltos: 6.5 - 6.1 - 6.2 - 5.4 - 5.3\n",
    "média dos saltos: 5.9 m"
   ]
  },
  {
   "cell_type": "code",
   "execution_count": 26,
   "metadata": {},
   "outputs": [
    {
     "name": "stdout",
     "output_type": "stream",
     "text": [
      "\n",
      "Resultado final:\n",
      "Atleta: Redson Lira\n",
      "Saltos: 9.8 - 8.7 - 7.9 - 9.8 - 10.9\n",
      "Média dos saltos: 9.42 m\n",
      "\n"
     ]
    }
   ],
   "source": [
    "while True:\n",
    "    nome_atleta = input(\"Informe o nome do atleta (ou 'sair' para encerrar): \")\n",
    "    if nome_atleta.lower() == 'sair':\n",
    "        break\n",
    "\n",
    "    saltos = []\n",
    "    for i in range(1, 6):\n",
    "        distancia = float(input(f\"{i}° salto: \"))\n",
    "        saltos.append(distancia)\n",
    "\n",
    "    media_saltos = sum(saltos) / len(saltos)\n",
    "    media_saltos = round(media_saltos, 2)\n",
    "\n",
    "    print(\"\\nResultado final:\")\n",
    "    print(\"Atleta:\", nome_atleta)\n",
    "    print(\"Saltos:\", \" - \".join(str(salto) for salto in saltos))\n",
    "    print(\"Média dos saltos:\", media_saltos, \"m\")\n",
    "    print()\n"
   ]
  },
  {
   "attachments": {},
   "cell_type": "markdown",
   "metadata": {},
   "source": [
    "18) Uma grande emissora de televisão quer fazer uma enquete entre os seus telespectadores para\n",
    "saber qual o melhor jogador após cada jogo. Para isto, faz-se necessário o desenvolvimento de\n",
    "um programa, que será utilizado pelas telefonistas, para a computação dos votos. Sua equipe foi\n",
    "contratada para desenvolver este programa, utilizando a linguagem de programação C++. Para\n",
    "computar cada voto, a telefonista digitará um número, entre 1 e 23, correspondente ao número\n",
    "da camisa do jogador. Um número de jogador igual zero, indica que a votação foi encerrada. Se\n",
    "um número inválido for digitado, o programa deve ignorá-lo, mostrando uma breve mensagem de\n",
    "aviso, e voltando a pedir outro número. Após o final da votação, o programa deverá exibir:\n",
    "a. O total de votos computados;\n",
    "b. Os númeos e respectivos votos de todos os jogadores que receberam votos;\n",
    "c. O percentual de votos de cada um destes jogadores;\n",
    "d. O número do jogador escolhido como o melhor jogador da partida, juntamente com o\n",
    "número de votos e o percentual de votos dados a ele.\n",
    "§ Observe que os votos inválidos e o zero final não devem ser computados como\n",
    "votos. O resultado aparece ordenado pelo número do jogador. O programa\n",
    "deve fazer uso de arrays. O programa deverá executar o cálculo do percentual\n",
    "de cada jogador através de uma função. Esta função receberá dois\n",
    "parâmetros: o número de votos de um jogador e o total de votos. A função\n",
    "calculará o percentual e retornará o valor calculado. Abaixo segue uma tela de\n",
    "exemplo. O disposição das informações deve ser o mais próxima possível ao\n",
    "exemplo. Os dados são fictícios e podem mudar a cada execução do\n",
    "programa. Ao final, o programa deve ainda gravar os dados referentes ao\n",
    "resultado da votação em um arquivo texto no disco, obedecendo a mesma\n",
    "disposição apresentada na tela.\n",
    "Enquete: Quem foi o melhor jogador?\n",
    "Número do jogador (0=fim): 9\n",
    "Número do jogador (0=fim): 10\n",
    "Número do jogador (0=fim): 9\n",
    "Número do jogador (0=fim): 10\n",
    "Número do jogador (0=fim): 11\n",
    "Número do jogador (0=fim): 10\n",
    "Número do jogador (0=fim): 50\n",
    "Informe um valor entre 1 e 23 ou 0 para sair!\n",
    "Número do jogador (0=fim): 9\n",
    "Número do jogador (0=fim): 9\n",
    "Número do jogador (0=fim): 0\n",
    "Resultado da votação:\n",
    "Foram computados 8 votos.\n",
    "Jogador Votos %\n",
    "9 4 50,0%\n",
    "10 3 37,5%\n",
    "11 1 12,5%\n",
    "O melhor jogador foi o número 9, com 4 votos, correspondendo\n",
    "a 50% do total de votos."
   ]
  },
  {
   "cell_type": "code",
   "execution_count": 28,
   "metadata": {},
   "outputs": [
    {
     "name": "stdout",
     "output_type": "stream",
     "text": [
      "Resultado da votação:\n",
      "Foram computados 7 votos.\n",
      "Jogador 10: 2 votos (28.6%)\n",
      "Jogador 8: 1 votos (14.3%)\n",
      "Jogador 7: 3 votos (42.9%)\n",
      "Jogador 11: 1 votos (14.3%)\n",
      "O melhor jogador foi o número 7 com 3 votos, correspondendo a 42.9% do total de votos.\n"
     ]
    }
   ],
   "source": [
    "def calcular_percentual(votos, total_votos):\n",
    "    return (votos / total_votos) * 100\n",
    "\n",
    "\n",
    "def gravar_resultado(votos, total_votos, melhor_jogador):\n",
    "    with open('resultado_enquete.txt', 'w') as arquivo:\n",
    "        arquivo.write(\"Resultado da votação:\\n\")\n",
    "        arquivo.write(f\"Foram computados {total_votos} votos.\\n\")\n",
    "\n",
    "        for jogador, qtd_votos in votos.items():\n",
    "            percentual = calcular_percentual(qtd_votos, total_votos)\n",
    "            arquivo.write(f\"Jogador {jogador}: {qtd_votos} votos ({percentual:.1f}%)\\n\")\n",
    "\n",
    "        arquivo.write(f\"O melhor jogador foi o número {melhor_jogador} \"\n",
    "                      f\"com {votos[melhor_jogador]} votos, correspondendo a \"\n",
    "                      f\"{calcular_percentual(votos[melhor_jogador], total_votos):.1f}% do total de votos.\")\n",
    "\n",
    "\n",
    "votos = {}\n",
    "total_votos = 0\n",
    "\n",
    "while True:\n",
    "    jogador = int(input(\"Número do jogador (0=fim): \"))\n",
    "\n",
    "    if jogador == 0:\n",
    "        break\n",
    "\n",
    "    if 1 <= jogador <= 23:\n",
    "        votos[jogador] = votos.get(jogador, 0) + 1\n",
    "        total_votos += 1\n",
    "    else:\n",
    "        print(\"Informe um valor entre 1 e 23 ou 0 para sair!\")\n",
    "\n",
    "melhor_jogador = max(votos, key=votos.get)\n",
    "\n",
    "print(\"Resultado da votação:\")\n",
    "print(f\"Foram computados {total_votos} votos.\")\n",
    "\n",
    "for jogador, qtd_votos in votos.items():\n",
    "    percentual = calcular_percentual(qtd_votos, total_votos)\n",
    "    print(f\"Jogador {jogador}: {qtd_votos} votos ({percentual:.1f}%)\")\n",
    "\n",
    "print(f\"O melhor jogador foi o número {melhor_jogador} \"\n",
    "      f\"com {votos[melhor_jogador]} votos, correspondendo a \"\n",
    "      f\"{calcular_percentual(votos[melhor_jogador], total_votos):.1f}% do total de votos.\")\n",
    "\n",
    "gravar_resultado(votos, total_votos, melhor_jogador)\n"
   ]
  },
  {
   "attachments": {},
   "cell_type": "markdown",
   "metadata": {},
   "source": [
    "19)Uma empresa de pesquisas precisa tabular os resultados da seguinte enquete feita a um grande\n",
    "quantidade de organizações:\n",
    "\"Qual o melhor Sistema Operacional para uso em servidores?\"\n",
    "As possíveis respostas são:\n",
    "1- Windows Server\n",
    "2- Unix\n",
    "3- Linux\n",
    "4- Netware\n",
    "5- Mac OS\n",
    "6- Outro\n",
    "Você foi contratado para desenvolver um programa que leia o resultado da enquete e informe ao\n",
    "final o resultado da mesma. O programa deverá ler os valores até ser informado o valor 0, que\n",
    "encerra a entrada dos dados. Não deverão ser aceitos valores além dos válidos para o programa\n",
    "(0 a 6). Os valores referentes a cada uma das opções devem ser armazenados num vetor. Após\n",
    "os dados terem sido completamente informados, o programa deverá calcular a percentual de\n",
    "cada um dos concorrentes e informar o vencedor da enquete. O formato da saída foi dado pela\n",
    "empresa, e é o seguinte:\n",
    "Sistema Operacional Votos %\n",
    "------------------- ----- ---\n",
    "Windows Server 1500 17%\n",
    "Unix 3500 40%\n",
    "Linux 3000 34%\n",
    "Netware 500 5%\n",
    "Mac OS 150 2%\n",
    "Outro 150 2%\n",
    "------------------- -----\n",
    "Total 8800\n",
    "O Sistema Operacional mais votado foi o Unix, com 3500 votos,\n",
    "correspondendo a 40% dos votos."
   ]
  },
  {
   "cell_type": "code",
   "execution_count": 30,
   "metadata": {},
   "outputs": [
    {
     "name": "stdout",
     "output_type": "stream",
     "text": [
      "Valor inválido. Informe um número entre 1 e 6 ou 0 para encerrar.\n",
      "Sistema Operacional     Votos    %\n",
      "-------------------     -----    ---\n",
      "Windows Server         4        30.8%\n",
      "Unix                   1        7.7%\n",
      "Linux                  1        7.7%\n",
      "Netware                2        15.4%\n",
      "Mac OS                 2        15.4%\n",
      "Outro                  3        23.1%\n",
      "-------------------     -----    -----\n",
      "Total                  13\n",
      "\n",
      "O Sistema Operacional mais votado foi o Windows Server, com 4 votos,\n",
      "correspondendo a 31% dos votos.\n"
     ]
    }
   ],
   "source": [
    "def calcular_percentual(votos, total_votos):\n",
    "    return (votos / total_votos) * 100\n",
    "\n",
    "\n",
    "sistemas_operacionais = [\n",
    "    \"Windows Server\",\n",
    "    \"Unix\",\n",
    "    \"Linux\",\n",
    "    \"Netware\",\n",
    "    \"Mac OS\",\n",
    "    \"Outro\"\n",
    "]\n",
    "\n",
    "votos = [0] * len(sistemas_operacionais)\n",
    "total_votos = 0\n",
    "\n",
    "while True:\n",
    "    voto = int(input(\"Informe o número correspondente ao sistema operacional (0 para encerrar): \"))\n",
    "    \n",
    "    if voto == 0:\n",
    "        break\n",
    "    \n",
    "    if 1 <= voto <= len(sistemas_operacionais):\n",
    "        votos[voto - 1] += 1\n",
    "        total_votos += 1\n",
    "    else:\n",
    "        print(\"Valor inválido. Informe um número entre 1 e 6 ou 0 para encerrar.\")\n",
    "\n",
    "print(\"Sistema Operacional     Votos    %\")\n",
    "print(\"-------------------     -----    ---\")\n",
    "\n",
    "for i in range(len(sistemas_operacionais)):\n",
    "    percentual = calcular_percentual(votos[i], total_votos)\n",
    "    print(f\"{sistemas_operacionais[i]:<22} {votos[i]:<8} {percentual:.1f}%\")\n",
    "\n",
    "print(\"-------------------     -----    -----\")\n",
    "print(f\"Total                  {total_votos}\")\n",
    "\n",
    "indice_vencedor = votos.index(max(votos))\n",
    "vencedor = sistemas_operacionais[indice_vencedor]\n",
    "percentual_vencedor = calcular_percentual(votos[indice_vencedor], total_votos)\n",
    "\n",
    "print(f\"\\nO Sistema Operacional mais votado foi o {vencedor}, com {votos[indice_vencedor]} votos,\")\n",
    "print(f\"correspondendo a {percentual_vencedor:.0f}% dos votos.\")\n"
   ]
  },
  {
   "attachments": {},
   "cell_type": "markdown",
   "metadata": {},
   "source": [
    "20)As Organizações Tabajara resolveram dar um abono aos seus colaboradores em\n",
    "reconhecimento ao bom resultado alcançado durante o ano que passou. Para isto contratou você\n",
    "para desenvolver a aplicação que servirá como uma projeção de quanto será gasto com o\n",
    "pagamento deste abono.\n",
    "o Após reuniões envolvendo a diretoria executiva, a diretoria financeira e os\n",
    "representantes do sindicato laboral, chegou-se a seguinte forma de cálculo:\n",
    "o a.Cada funcionário receberá o equivalente a 20% do seu salário bruto de\n",
    "dezembro; a.O piso do abono será de 100 reais, isto é, aqueles funcionários cujo salário\n",
    "for muito baixo, recebem este valor mínimo; Neste momento, não se deve ter nenhuma\n",
    "preocupação com colaboradores com tempo menor de casa, descontos, impostos ou\n",
    "outras particularidades. Seu programa deverá permitir a digitação do salário de um\n",
    "número indefinido (desconhecido) de salários. Um valor de salário igual a 0 (zero)\n",
    "encerra a digitação. Após a entrada de todos os dados o programa deverá calcular o\n",
    "valor do abono concedido a cada colaborador, de acordo com a regra definida acima.\n",
    "Ao final, o programa deverá apresentar:\n",
    "o O salário de cada funcionário, juntamente com o valor do abono;\n",
    "o O número total de funcionário processados;\n",
    "o O valor total a ser gasto com o pagamento do abono;\n",
    "o O número de funcionário que receberá o valor mínimo de 100 reais;\n",
    "o O maior valor pago como abono; A tela abaixo é um exemplo de execução do\n",
    "programa, apenas para fins ilustrativos. Os valores podem mudar a cada execução do\n",
    "programa.\n",
    "Projeção de Gastos com Abono\n",
    "============================\n",
    "Salário: 1000\n",
    "Salário: 300\n",
    "Salário: 500\n",
    "Salário: 100\n",
    "Salário: 4500\n",
    "Salário: 0\n",
    "Salário - Abono\n",
    "R$ 1000.00 - R$ 200.00\n",
    "R$ 300.00 - R$ 100.00\n",
    "R$ 500.00 - R$ 100.00\n",
    "R$ 100.00 - R$ 100.00\n",
    "R$ 4500.00 - R$ 900.00\n",
    "Foram processados 5 colaboradores\n",
    "Total gasto com abonos: R$ 1400.00\n",
    "Valor mínimo pago a 3 colaboradores\n",
    "Maior valor de abono pago: R$ 900.00"
   ]
  },
  {
   "cell_type": "code",
   "execution_count": 31,
   "metadata": {},
   "outputs": [
    {
     "name": "stdout",
     "output_type": "stream",
     "text": [
      "Projeção de Gastos com Abono\n",
      "============================\n",
      "Salário: R$ 500.00 - Abono: R$ 100.00\n",
      "Salário: R$ 500.00 - Abono: R$ 100.00\n",
      "Salário: R$ 700.00 - Abono: R$ 140.00\n",
      "Salário: R$ 800.00 - Abono: R$ 160.00\n",
      "Salário: R$ 1345.00 - Abono: R$ 269.00\n",
      "Salário: R$ 2500.00 - Abono: R$ 500.00\n",
      "Foram processados 6 colaboradores\n",
      "Total gasto com abonos: R$ 1269.00\n",
      "Valor mínimo pago a 2 colaboradores\n",
      "Maior valor de abono pago: R$ 500.00\n"
     ]
    }
   ],
   "source": [
    "salarios = []\n",
    "abonos = []\n",
    "total_colaboradores = 0\n",
    "total_gastos = 0\n",
    "valor_minimo = 100\n",
    "maior_abono = 0\n",
    "\n",
    "while True:\n",
    "    salario = float(input(\"Salário (0 para encerrar): \"))\n",
    "    \n",
    "    if salario == 0:\n",
    "        break\n",
    "    \n",
    "    abono = salario * 0.2 if salario * 0.2 >= valor_minimo else valor_minimo\n",
    "    \n",
    "    salarios.append(salario)\n",
    "    abonos.append(abono)\n",
    "    total_colaboradores += 1\n",
    "    total_gastos += abono\n",
    "    \n",
    "    if abono > maior_abono:\n",
    "        maior_abono = abono\n",
    "\n",
    "print(\"Projeção de Gastos com Abono\")\n",
    "print(\"============================\")\n",
    "\n",
    "for i in range(total_colaboradores):\n",
    "    print(f\"Salário: R$ {salarios[i]:.2f} - Abono: R$ {abonos[i]:.2f}\")\n",
    "\n",
    "print(f\"Foram processados {total_colaboradores} colaboradores\")\n",
    "print(f\"Total gasto com abonos: R$ {total_gastos:.2f}\")\n",
    "print(f\"Valor mínimo pago a {abonos.count(valor_minimo)} colaboradores\")\n",
    "print(f\"Maior valor de abono pago: R$ {maior_abono:.2f}\")\n"
   ]
  },
  {
   "attachments": {},
   "cell_type": "markdown",
   "metadata": {},
   "source": [
    "21) Faça um programa que carregue uma lista com os modelos de cinco carros (exemplo de\n",
    "modelos: FUSCA, GOL, VECTRA etc). Carregue uma outra lista com o consumo desses carros,\n",
    "isto é, quantos quilômetros cada um desses carros faz com um litro de combustível. Calcule e\n",
    "mostre:\n",
    ". O modelo do carro mais econômico;\n",
    "a. Quantos litros de combustível cada um dos carros cadastrados consome para percorrer\n",
    "uma distância de 1000 quilômetros e quanto isto custará, considerando um que a\n",
    "gasolina custe R$ 2,25 o litro. Abaixo segue uma tela de exemplo. O disposição das\n",
    "informações deve ser o mais próxima possível ao exemplo. Os dados são fictícios e\n",
    "podem mudar a cada execução do programa.\n",
    "Comparativo de Consumo de Combustível\n",
    "Veículo 1\n",
    "Nome: fusca\n",
    "Km por litro: 7\n",
    "Veículo 2\n",
    "Nome: gol\n",
    "Km por litro: 10\n",
    "Veículo 3\n",
    "Nome: uno\n",
    "Km por litro: 12.5\n",
    "Veículo 4\n",
    "Nome: Vectra\n",
    "Km por litro: 9\n",
    "Veículo 5\n",
    "Nome: Peugeout\n",
    "Km por litro: 14.5\n",
    "Relatório Final\n",
    "1 - fusca - 7.0 - 142.9 litros - R$ 321.43\n",
    "2 - gol - 10.0 - 100.0 litros - R$ 225.00\n",
    "3 - uno - 12.5 - 80.0 litros - R$ 180.00\n",
    "4 - vectra - 9.0 - 111.1 litros - R$ 250.00\n",
    "5 - peugeout - 14.5 - 69.0 litros - R$ 155.17\n",
    "O menor consumo é do peugeout.\n"
   ]
  },
  {
   "cell_type": "code",
   "execution_count": 33,
   "metadata": {},
   "outputs": [
    {
     "name": "stdout",
     "output_type": "stream",
     "text": [
      "Relatório Final\n",
      "1 - fusca - 8.0 - 125.0 litros - R$ 281.25\n",
      "2 - uno - 10.0 - 100.0 litros - R$ 225.00\n",
      "3 - mustang - 12.0 - 83.3 litros - R$ 187.50\n",
      "4 - opala - 3.5 - 285.7 litros - R$ 642.86\n",
      "5 - monza - 4.5 - 222.2 litros - R$ 500.00\n",
      "O menor consumo é do opala.\n"
     ]
    }
   ],
   "source": [
    "carros = []\n",
    "consumo = []\n",
    "\n",
    "for i in range(5):\n",
    "    modelo = input(f\"Veículo {i+1}\\nNome: \")\n",
    "    km_por_litro = float(input(\"Km por litro: \"))\n",
    "    \n",
    "    carros.append(modelo)\n",
    "    consumo.append(km_por_litro)\n",
    "\n",
    "menor_consumo = min(consumo)\n",
    "indice_menor_consumo = consumo.index(menor_consumo)\n",
    "custo_gasolina = 2.25\n",
    "distancia = 1000\n",
    "\n",
    "print(\"Relatório Final\")\n",
    "for i in range(5):\n",
    "    litros_consumidos = distancia / consumo[i]\n",
    "    custo_total = litros_consumidos * custo_gasolina\n",
    "    \n",
    "    print(f\"{i+1} - {carros[i]} - {consumo[i]} - {litros_consumidos:.1f} litros - R$ {custo_total:.2f}\")\n",
    "\n",
    "print(f\"O menor consumo é do {carros[indice_menor_consumo]}.\")\n"
   ]
  },
  {
   "attachments": {},
   "cell_type": "markdown",
   "metadata": {},
   "source": [
    "22) Sua organização acaba de contratar um estagiário para trabalhar no Suporte de Informática, com\n",
    "a intenção de fazer um levantamento nas sucatas encontradas nesta área. A primeira tarefa dele\n",
    "é testar todos os cerca de 200 mouses que se encontram lá, testando e anotando o estado de\n",
    "cada um deles, para verificar o que se pode aproveitar deles.\n",
    "o Foi requisitado que você desenvolva um programa para registrar este levantamento. O\n",
    "programa deverá receber um número indeterminado de entradas, cada uma\n",
    "contendo: um número de identificação do mouse o tipo de defeito:\n",
    "o necessita da esfera;\n",
    "o necessita de limpeza; a.necessita troca do cabo ou conector; a.quebrado ou\n",
    "inutilizado Uma identificação igual a zero encerra o programa. Ao final o programa\n",
    "deverá emitir o seguinte relatório:\n",
    "Quantidade de mouses: 100\n",
    "Situação Quantidade Percentual\n",
    "1- necessita da esfera 40 40%\n",
    "2- necessita de limpeza 30 30%\n",
    "3- necessita troca do cabo ou conector 15 15%\n",
    "4- quebrado ou inutilizado 15\n",
    "15%"
   ]
  },
  {
   "cell_type": "code",
   "execution_count": 34,
   "metadata": {},
   "outputs": [
    {
     "name": "stdout",
     "output_type": "stream",
     "text": [
      "Relatório:\n",
      "Quantidade de mouses: 3\n",
      "Situação\tQuantidade\tPercentual\n",
      "1- necessita da esfera\t1\t\t33.3%\n",
      "2- necessita de limpeza\t1\t\t33.3%\n",
      "3- necessita troca do cabo ou conector\t0\t\t0.0%\n",
      "4- quebrado ou inutilizado\t1\t\t33.3%\n"
     ]
    }
   ],
   "source": [
    "mouses = []\n",
    "situacoes = {\n",
    "    1: \"necessita da esfera\",\n",
    "    2: \"necessita de limpeza\",\n",
    "    3: \"necessita troca do cabo ou conector\",\n",
    "    4: \"quebrado ou inutilizado\"\n",
    "}\n",
    "total_mouses = 0\n",
    "quantidades = [0, 0, 0, 0]\n",
    "\n",
    "while True:\n",
    "    identificacao = int(input(\"Número de identificação do mouse (0 para encerrar): \"))\n",
    "\n",
    "    if identificacao == 0:\n",
    "        break\n",
    "\n",
    "    situacao = int(input(\"Tipo de defeito:\\n1- necessita da esfera\\n2- necessita de limpeza\\n3- necessita troca do cabo ou conector\\n4- quebrado ou inutilizado\\nOpção: \"))\n",
    "\n",
    "    if situacao in situacoes:\n",
    "        mouses.append((identificacao, situacao))\n",
    "        quantidades[situacao-1] += 1\n",
    "        total_mouses += 1\n",
    "    else:\n",
    "        print(\"Opção inválida. Tente novamente.\")\n",
    "\n",
    "print(\"Relatório:\")\n",
    "print(f\"Quantidade de mouses: {total_mouses}\")\n",
    "print(\"Situação\\tQuantidade\\tPercentual\")\n",
    "for situacao, quantidade in enumerate(quantidades, start=1):\n",
    "    percentual = (quantidade / total_mouses) * 100\n",
    "    print(f\"{situacao}- {situacoes[situacao]}\\t{quantidade}\\t\\t{percentual:.1f}%\")\n"
   ]
  },
  {
   "attachments": {},
   "cell_type": "markdown",
   "metadata": {},
   "source": [
    "23) A ACME Inc., uma empresa de 500 funcionários, está tendo problemas de espaço em disco no\n",
    "seu servidor de arquivos. Para tentar resolver este problema, o Administrador de Rede precisa\n",
    "saber qual o espaço ocupado pelos usuários, e identificar os usuários com maior espaço\n",
    "ocupado. Através de um programa, baixado da Internet, ele conseguiu gerar o seguinte arquivo,\n",
    "chamado \"usuarios.txt\":\n",
    "alexandre 456123789\n",
    "anderson 1245698456\n",
    "antonio 123456456\n",
    "carlos 91257581\n",
    "cesar 987458\n",
    "rosemary 789456125\n",
    "Neste arquivo, o nome do usuário possui 15 caracteres. A partir deste arquivo, você deve criar\n",
    "um programa que gere um relatório, chamado \"relatório.txt\", no seguinte formato:\n",
    "ACME Inc. Uso do espaço em disco pelos usuários\n",
    "----------------------------------------------------------------\n",
    "--------\n",
    "Nr. Usuário Espaço utilizado % do uso\n",
    "1 alexandre 434,99 MB 16,85%\n",
    "2 anderson 1187,99 MB 46,02%\n",
    "3 antonio 117,73 MB 4,56%\n",
    "4 carlos 87,03 MB 3,37%\n",
    "5 cesar 0,94 MB 0,04%\n",
    "6 rosemary 752,88 MB 29,16%\n",
    "Espaço total ocupado: 2581,57 MB\n",
    "Espaço médio ocupado: 430,26 MB"
   ]
  },
  {
   "cell_type": "code",
   "execution_count": 40,
   "metadata": {},
   "outputs": [],
   "source": [
    "def formatar_tamanho(tamanho):\n",
    "    unidades = ['B', 'KB', 'MB', 'GB', 'TB']\n",
    "    indice = 0\n",
    "    while tamanho > 1024:\n",
    "        tamanho /= 1024\n",
    "        indice += 1\n",
    "    return f\"{tamanho:.2f} {unidades[indice]}\"\n",
    "\n",
    "with open(\"usuarios.txt\", \"r\") as arquivo:\n",
    "    linhas = arquivo.readlines()\n",
    "\n",
    "usuarios = []\n",
    "espaco_total = 0\n",
    "\n",
    "for linha in linhas:\n",
    "    partes = linha.split()\n",
    "    nome = partes[0]\n",
    "    espaco = int(partes[1])\n",
    "    usuarios.append((nome, espaco))\n",
    "    espaco_total += espaco\n",
    "\n",
    "usuarios = sorted(usuarios, key=lambda x: x[1], reverse=True)\n",
    "\n",
    "with open(\"relatorio.txt\", \"w\") as arquivo:\n",
    "    arquivo.write(\"ACME Inc. Uso do espaço em disco pelos usuários\\n\")\n",
    "    arquivo.write(\"-\" * 80 + \"\\n\")\n",
    "    arquivo.write(\"Nr.\\tUsuário\\t\\tEspaço utilizado\\t% do uso\\n\")\n",
    "\n",
    "    for indice, (nome, espaco) in enumerate(usuarios, start=1):\n",
    "        percentual = (espaco / espaco_total) * 100\n",
    "        arquivo.write(f\"{indice}\\t{nome.ljust(15)}\\t{formatar_tamanho(espaco).ljust(15)}\\t{percentual:.2f}%\\n\")\n",
    "\n",
    "    arquivo.write(f\"\\nEspaço total ocupado: {formatar_tamanho(espaco_total)}\\n\")\n",
    "    arquivo.write(f\"Espaço médio ocupado: {formatar_tamanho(espaco_total / len(usuarios))}\\n\")\n"
   ]
  },
  {
   "attachments": {},
   "cell_type": "markdown",
   "metadata": {},
   "source": [
    "24) Faça um programa que simule um lançamento de dados. Lance o dado 100 vezes e armazene\n",
    "os resultados em um vetor . Depois, mostre quantas vezes cada valor foi conseguido. Dica: use\n",
    "um vetor de contadores(1-6) e uma função para gerar números aleatórios, simulando os\n",
    "lançamentos dos dados."
   ]
  },
  {
   "cell_type": "code",
   "execution_count": 41,
   "metadata": {},
   "outputs": [
    {
     "name": "stdout",
     "output_type": "stream",
     "text": [
      "Valor 1: 15 vezes\n",
      "Valor 2: 18 vezes\n",
      "Valor 3: 9 vezes\n",
      "Valor 4: 22 vezes\n",
      "Valor 5: 22 vezes\n",
      "Valor 6: 14 vezes\n"
     ]
    }
   ],
   "source": [
    "import random\n",
    "\n",
    "def lancar_dados():\n",
    "    return random.randint(1, 6)\n",
    "\n",
    "resultados = []\n",
    "\n",
    "for _ in range(100):\n",
    "    resultado = lancar_dados()\n",
    "    resultados.append(resultado)\n",
    "\n",
    "contadores = [0, 0, 0, 0, 0, 0]\n",
    "\n",
    "for resultado in resultados:\n",
    "    contadores[resultado - 1] += 1\n",
    "\n",
    "for i in range(6):\n",
    "    print(f'Valor {i+1}: {contadores[i]} vezes')"
   ]
  }
 ],
 "metadata": {
  "kernelspec": {
   "display_name": "Python 3",
   "language": "python",
   "name": "python3"
  },
  "language_info": {
   "codemirror_mode": {
    "name": "ipython",
    "version": 3
   },
   "file_extension": ".py",
   "mimetype": "text/x-python",
   "name": "python",
   "nbconvert_exporter": "python",
   "pygments_lexer": "ipython3",
   "version": "3.10.11"
  },
  "orig_nbformat": 4
 },
 "nbformat": 4,
 "nbformat_minor": 2
}
